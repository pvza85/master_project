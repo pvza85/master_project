{
 "cells": [
  {
   "cell_type": "markdown",
   "metadata": {},
   "source": [
    "#### Fine Tuning over GoogLeNet for Stanford Mobile Image dataset. "
   ]
  },
  {
   "cell_type": "code",
   "execution_count": 1,
   "metadata": {
    "collapsed": false
   },
   "outputs": [],
   "source": [
    "aws = False  #if it is working over AWS \n",
    "\n",
    "import matplotlib\n",
    "if aws:\n",
    "    matplotlib.use('Pdf')\n",
    "    user = 'ubuntu'\n",
    "else:\n",
    "    user = 'payam'\n",
    "import numpy as np\n",
    "from pylab import *\n",
    "%matplotlib inline\n",
    "import tempfile\n",
    "\n",
    "caffe_root = '/home/{0}/workspace/caffe/'.format(user)\n",
    "dataset_root = '/home/{0}/dataset/stanford_mobile_images/'.format(user)\n",
    "\n",
    "import sys\n",
    "sys.path.insert(0, caffe_root + 'python')\n",
    "import caffe\n",
    "if aws:\n",
    "    caffe.set_device(0) #if run on g2.8xlarge turn 0  to all\n",
    "    caffe.set_mode_gpu()\n",
    "else:\n",
    "    caffe.set_mode_cpu()\n",
    "    \n",
    "#network\n",
    "model_name = 'bvlc_googlenet'\n",
    "model_prototxt = \"{0}models/{1}/my_train_val.prototxt\".format(caffe_root, model_name)\n",
    "model_trained = \"{0}models/{1}/{1}.caffemodel\".format(caffe_root, model_name)"
   ]
  },
  {
   "cell_type": "markdown",
   "metadata": {},
   "source": [
    "#### my input layer"
   ]
  },
  {
   "cell_type": "code",
   "execution_count": 2,
   "metadata": {
    "collapsed": true
   },
   "outputs": [],
   "source": [
    "import os\n",
    "def file_formatter(folder):\n",
    "    \"\"\"\n",
    "    This function prepare files for caffe input.\n",
    "    It gets folder name, and creates a text file with list of images in the given folder.\n",
    "    And returns text file name.\n",
    "    \"\"\"\n",
    "    counter = 0\n",
    "    with open(folder + '/images.txt', 'w') as output:\n",
    "        for f in os.listdir(folder):\n",
    "            if os.path.isfile(folder + '/' + f) and f.endswith('.jpg'):\n",
    "                output.write('{0}/{1} {1}\\n'.format(folder, f))\n",
    "                #in the format of: /path/to/file/0xx.jpg 0xx.jpg(class)\n",
    "                counter += 1\n",
    "    return '{0}/{1}'.format(folder, 'images.txt'), counter"
   ]
  },
  {
   "cell_type": "code",
   "execution_count": 3,
   "metadata": {
    "collapsed": true
   },
   "outputs": [],
   "source": [
    "def disp_preds(net, image, labels, k=5, name='ImageNet'):\n",
    "    input_blob = net.blobs['data']\n",
    "    net.blobs['data'].data[0, ...] = image\n",
    "    probs = net.forward(start='conv1')['probs'][0]\n",
    "    top_k = (-probs).argsort()[:k]\n",
    "    print 'top %d predicted %s labels =' % (k, name)\n",
    "    print '\\n'.join('\\t(%d) %5.2f%% %s' % (i+1, 100*probs[p], labels[p])\n",
    "                    for i, p in enumerate(top_k))\n",
    "\n",
    "def disp_imagenet_preds(net, image):\n",
    "    disp_preds(net, image, imagenet_labels, name='ImageNet')\n",
    "\n",
    "def disp_style_preds(net, image):\n",
    "    disp_preds(net, image, style_labels, name='style')"
   ]
  },
  {
   "cell_type": "code",
   "execution_count": 4,
   "metadata": {
    "collapsed": false
   },
   "outputs": [
    {
     "ename": "IndexError",
     "evalue": "list index out of range",
     "output_type": "error",
     "traceback": [
      "\u001b[1;31m---------------------------------------------------------------------------\u001b[0m",
      "\u001b[1;31mIndexError\u001b[0m                                Traceback (most recent call last)",
      "\u001b[1;32m<ipython-input-4-60180fb9f47d>\u001b[0m in \u001b[0;36m<module>\u001b[1;34m()\u001b[0m\n\u001b[0;32m      2\u001b[0m                        \u001b[0mchannel_swap\u001b[0m\u001b[1;33m=\u001b[0m\u001b[1;33m(\u001b[0m\u001b[1;36m2\u001b[0m\u001b[1;33m,\u001b[0m\u001b[1;36m1\u001b[0m\u001b[1;33m,\u001b[0m\u001b[1;36m0\u001b[0m\u001b[1;33m)\u001b[0m\u001b[1;33m,\u001b[0m\u001b[1;33m\u001b[0m\u001b[0m\n\u001b[0;32m      3\u001b[0m                        \u001b[0mraw_scale\u001b[0m\u001b[1;33m=\u001b[0m\u001b[1;36m255\u001b[0m\u001b[1;33m,\u001b[0m\u001b[1;33m\u001b[0m\u001b[0m\n\u001b[1;32m----> 4\u001b[1;33m                        image_dims=(256, 256))\n\u001b[0m",
      "\u001b[1;32m/home/payam/workspace/caffe/python/caffe/classifier.pyc\u001b[0m in \u001b[0;36m__init__\u001b[1;34m(self, model_file, pretrained_file, image_dims, mean, input_scale, raw_scale, channel_swap)\u001b[0m\n\u001b[0;32m     27\u001b[0m \u001b[1;33m\u001b[0m\u001b[0m\n\u001b[0;32m     28\u001b[0m         \u001b[1;31m# configure pre-processing\u001b[0m\u001b[1;33m\u001b[0m\u001b[1;33m\u001b[0m\u001b[0m\n\u001b[1;32m---> 29\u001b[1;33m         \u001b[0min_\u001b[0m \u001b[1;33m=\u001b[0m \u001b[0mself\u001b[0m\u001b[1;33m.\u001b[0m\u001b[0minputs\u001b[0m\u001b[1;33m[\u001b[0m\u001b[1;36m0\u001b[0m\u001b[1;33m]\u001b[0m\u001b[1;33m\u001b[0m\u001b[0m\n\u001b[0m\u001b[0;32m     30\u001b[0m         self.transformer = caffe.io.Transformer(\n\u001b[0;32m     31\u001b[0m             {in_: self.blobs[in_].data.shape})\n",
      "\u001b[1;31mIndexError\u001b[0m: list index out of range"
     ]
    }
   ],
   "source": [
    "net = caffe.Classifier(model_prototxt, model_trained,\n",
    "                       channel_swap=(2,1,0),\n",
    "                       raw_scale=255,\n",
    "                       image_dims=(256, 256))"
   ]
  },
  {
   "cell_type": "code",
   "execution_count": null,
   "metadata": {
    "collapsed": true
   },
   "outputs": [],
   "source": []
  }
 ],
 "metadata": {
  "kernelspec": {
   "display_name": "Python [Root]",
   "language": "python",
   "name": "Python [Root]"
  },
  "language_info": {
   "codemirror_mode": {
    "name": "ipython",
    "version": 2
   },
   "file_extension": ".py",
   "mimetype": "text/x-python",
   "name": "python",
   "nbconvert_exporter": "python",
   "pygments_lexer": "ipython2",
   "version": "2.7.11"
  }
 },
 "nbformat": 4,
 "nbformat_minor": 0
}
