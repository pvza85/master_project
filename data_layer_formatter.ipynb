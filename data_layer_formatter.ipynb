{
 "cells": [
  {
   "cell_type": "markdown",
   "metadata": {},
   "source": [
    "## Data Layer Formatter\n",
    "This codlet will produce files for Caffe Data Layer in the format of text file that contains names of images."
   ]
  },
  {
   "cell_type": "code",
   "execution_count": 3,
   "metadata": {
    "collapsed": false
   },
   "outputs": [],
   "source": [
    "aws = True #False\n",
    "\n",
    "import os\n",
    "import random\n",
    "from datetime import datetime\n",
    "if aws:\n",
    "    dataset = '/home/ubuntu/dataset/stanford_mobile_images/'\n",
    "else:\n",
    "    dataset = '/home/payam/dataset/stanford_mobile_images/'\n",
    "\n",
    "def data_layer_formatter(folder, threshold = 0):\n",
    "    folder = dataset + folder\n",
    "    train = '{0}/train{1}.txt'.format(folder, str(threshold).zfill(3))\n",
    "    test = '{0}/test.txt'.format(folder)\n",
    "    \n",
    "    if os.path.isfile(train):\n",
    "        os.remove(train)\n",
    "    if os.path.isfile(test):\n",
    "        os.remove(test)\n",
    "\n",
    "    test_counter = 0\n",
    "    train_counter = 0\n",
    "    random.seed(datetime.now)\n",
    "    \n",
    "    for subfolder in os.listdir(folder):\n",
    "        with open(train, 'a') as out_train:\n",
    "            with open(test, 'a') as out_test:\n",
    "                if os.path.isdir(folder + '/' + subfolder):\n",
    "                    for f in os.listdir(folder + '/' + subfolder):\n",
    "                        if os.path.isfile(folder + '/' + subfolder + '/' + f) and f.endswith('.jpg'):\n",
    "                            if subfolder != 'Reference':\n",
    "                                out_test.write('{0}/{1}/{2} {2}\\n'.format(folder, subfolder, f))\n",
    "                                #in the format of: /path/to/file/0xx.jpg 0xx.jpg(class)\n",
    "                                test_counter += 1\n",
    "                                if random.random() * 100 < threshold :\n",
    "                                    out_train.write('{0}/{1}/{2} {2}\\n'.format(folder, subfolder, f))\n",
    "                            else:\n",
    "                                out_train.write('{0}/{1}/{2} {2}\\n'.format(folder, subfolder, f))\n",
    "                                train_counter += 1\n",
    "    return [train, train_counter, test, test_counter]"
   ]
  },
  {
   "cell_type": "code",
   "execution_count": 8,
   "metadata": {
    "collapsed": false
   },
   "outputs": [
    {
     "name": "stdout",
     "output_type": "stream",
     "text": [
      "['/home/ubuntu/dataset/stanford_mobile_images/cd_covers/train100.txt', 100, '/home/ubuntu/dataset/stanford_mobile_images/cd_covers/test.txt', 400]\n"
     ]
    }
   ],
   "source": [
    "for f in os.listdir(dataset):\n",
    "    if os.path.isdir(dataset + f):\n",
    "        print data_layer_formatter(f, 100)"
   ]
  },
  {
   "cell_type": "code",
   "execution_count": null,
   "metadata": {
    "collapsed": true
   },
   "outputs": [],
   "source": []
  }
 ],
 "metadata": {
  "kernelspec": {
   "display_name": "Python 2",
   "language": "python",
   "name": "python2"
  },
  "language_info": {
   "codemirror_mode": {
    "name": "ipython",
    "version": 2
   },
   "file_extension": ".py",
   "mimetype": "text/x-python",
   "name": "python",
   "nbconvert_exporter": "python",
   "pygments_lexer": "ipython2",
   "version": "2.7.6"
  }
 },
 "nbformat": 4,
 "nbformat_minor": 0
}
