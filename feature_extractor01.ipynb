{
 "cells": [
  {
   "cell_type": "code",
   "execution_count": 5,
   "metadata": {
    "collapsed": true
   },
   "outputs": [],
   "source": [
    "import numpy as np\n",
    "import getopt\n",
    "import os, sys\n",
    " \n",
    "# Main path to your caffe installation\n",
    "caffe_root = '/home/payam/workspace/caffe/'\n",
    "\n",
    "sys.path.insert(0, caffe_root + 'python')\n",
    "import caffe\n",
    " \n",
    "# Model prototxt file\n",
    "model_prototxt = caffe_root + 'models/bvlc_reference_caffenet/deploy.prototxt'\n",
    " \n",
    "# Model caffemodel file\n",
    "model_trained = caffe_root + 'models/bvlc_reference_caffenet/bvlc_reference_caffenet.caffemodel'\n",
    " \n",
    "# File containing the class labels\n",
    "imagenet_labels = caffe_root + 'data/ilsvrc12/synset_words.txt'\n",
    " \n",
    "# Path to the mean image (used for input processing)\n",
    "mean_path = caffe_root + 'python/caffe/imagenet/ilsvrc_2012_mean.npy'\n",
    " \n"
   ]
  },
  {
   "cell_type": "code",
   "execution_count": null,
   "metadata": {
    "collapsed": false
   },
   "outputs": [],
   "source": [
    "import matplotlib.pyplot as plt\n",
    "%matplotlib inline\n",
    "import os\n",
    "\n",
    "# Name of the layer we want to extract\n",
    "layer_name = 'fc8'\n",
    "\n",
    "def folder_feature_extractor(input_folder):\n",
    "    caffe.set_mode_cpu()\n",
    "    net = caffe.Classifier(model_prototxt, model_trained,\n",
    "                           mean=np.load(mean_path).mean(1).mean(1),\n",
    "                           channel_swap=(2,1,0),\n",
    "                           raw_scale=255,\n",
    "                           image_dims=(256, 256))\n",
    " \n",
    "    with open(imagenet_labels) as f:\n",
    "        labels = f.readlines()\n",
    "    feature_list = []\n",
    "    for i in range(1,101):\n",
    "        net = caffe.Classifier(model_prototxt, model_trained,\n",
    "                           mean=np.load(mean_path).mean(1).mean(1),\n",
    "                           channel_swap=(2,1,0),\n",
    "                           raw_scale=255,\n",
    "                           image_dims=(256, 256))\n",
    "        file_name =  str(i).zfill(3) + '.jpg'\n",
    "        file_name = input_folder + file_name\n",
    "        #print file_name\n",
    "        image = caffe.io.load_image(file_name)\n",
    "        #plt.imshow(image)\n",
    "        #plt.figure(i+1)\n",
    "        prediction = net.predict([image], oversample=False)\n",
    "        features = net.blobs[layer_name].data[0].reshape(1,-1)\n",
    "        #print sum(features[0])\n",
    "        #print labels[prediction[0].argmax()].strip() , ' (', prediction[0][prediction[0].argmax()] , ')'\n",
    "        #for i in features[0]:\n",
    "        #    print i\n",
    "        #print type(features)\n",
    "        #print len(features)\n",
    "        feature_list.append(features[0])\n",
    "        #print '-------------------------------------'\n",
    "    return feature_list\n",
    "\n",
    "ref = folder_feature_extractor('/home/payam/dataset/cd_covers/Reference/')\n",
    "print ref[0].shape\n",
    "canon = folder_feature_extractor('/home/payam/dataset/cd_covers/Canon/')\n",
    "print canon[0].shape"
   ]
  },
  {
   "cell_type": "code",
   "execution_count": 117,
   "metadata": {
    "collapsed": false
   },
   "outputs": [
    {
     "name": "stdout",
     "output_type": "stream",
     "text": [
      "0.14\n"
     ]
    }
   ],
   "source": [
    "counter = 0.0\n",
    "for j in range(0,100):\n",
    "    min_dist = 999999999999.0\n",
    "    min_index = -1\n",
    "    for i in range(0,100):\n",
    "        if i != 420:\n",
    "            dist = np.linalg.norm(ref[i]-canon[j])\n",
    "            if dist < min_dist:\n",
    "                #print \"#\", i, \" : \", dist\n",
    "                min_index = i\n",
    "                min_dist = dist\n",
    "    if j == min_index:\n",
    "        counter += 1\n",
    "print counter / 100.0"
   ]
  },
  {
   "cell_type": "code",
   "execution_count": 99,
   "metadata": {
    "collapsed": false
   },
   "outputs": [
    {
     "data": {
      "text/plain": [
       "100"
      ]
     },
     "execution_count": 99,
     "metadata": {},
     "output_type": "execute_result"
    }
   ],
   "source": [
    "len(ref)"
   ]
  },
  {
   "cell_type": "code",
   "execution_count": 101,
   "metadata": {
    "collapsed": false
   },
   "outputs": [
    {
     "name": "stdout",
     "output_type": "stream",
     "text": [
      "1\n",
      "2\n",
      "3\n",
      "4\n",
      "5\n",
      "6\n",
      "7\n",
      "8\n",
      "9\n",
      "10\n",
      "11\n",
      "12\n",
      "13\n",
      "14\n",
      "15\n",
      "16\n",
      "17\n",
      "18\n",
      "19\n",
      "20\n",
      "21\n",
      "22\n",
      "23\n",
      "24\n",
      "25\n",
      "26\n",
      "27\n",
      "28\n",
      "29\n",
      "30\n",
      "31\n",
      "32\n",
      "33\n",
      "34\n",
      "35\n",
      "36\n",
      "37\n",
      "38\n",
      "39\n",
      "40\n",
      "41\n",
      "42\n",
      "43\n",
      "44\n",
      "45\n",
      "46\n",
      "47\n",
      "48\n",
      "49\n",
      "50\n",
      "51\n",
      "52\n",
      "53\n",
      "54\n",
      "55\n",
      "56\n",
      "57\n",
      "58\n",
      "59\n",
      "60\n",
      "61\n",
      "62\n",
      "63\n",
      "64\n",
      "65\n",
      "66\n",
      "67\n",
      "68\n",
      "69\n",
      "70\n",
      "71\n",
      "72\n",
      "73\n",
      "74\n",
      "75\n",
      "76\n",
      "77\n",
      "78\n",
      "79\n",
      "80\n",
      "81\n",
      "82\n",
      "83\n",
      "84\n",
      "85\n",
      "86\n",
      "87\n",
      "88\n",
      "89\n",
      "90\n",
      "91\n",
      "92\n",
      "93\n",
      "94\n",
      "95\n",
      "96\n",
      "97\n",
      "98\n",
      "99\n",
      "100\n"
     ]
    }
   ],
   "source": [
    "for i in range(1,101):\n",
    "    print i"
   ]
  },
  {
   "cell_type": "code",
   "execution_count": null,
   "metadata": {
    "collapsed": true
   },
   "outputs": [],
   "source": []
  }
 ],
 "metadata": {
  "kernelspec": {
   "display_name": "Python 2",
   "language": "python",
   "name": "python2"
  },
  "language_info": {
   "codemirror_mode": {
    "name": "ipython",
    "version": 2
   },
   "file_extension": ".py",
   "mimetype": "text/x-python",
   "name": "python",
   "nbconvert_exporter": "python",
   "pygments_lexer": "ipython2",
   "version": "2.7.11"
  }
 },
 "nbformat": 4,
 "nbformat_minor": 0
}
