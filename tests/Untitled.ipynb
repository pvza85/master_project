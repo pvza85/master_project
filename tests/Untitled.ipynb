{
 "cells": [
  {
   "cell_type": "code",
   "execution_count": 1,
   "metadata": {
    "collapsed": true
   },
   "outputs": [],
   "source": [
    "import os, sys\n",
    "import numpy as np\n",
    "\n",
    "caffe_root = '/home/payam/workspace/caffe/'\n",
    "sys.path.insert(0, caffe_root + 'python')\n",
    "import caffe"
   ]
  },
  {
   "cell_type": "code",
   "execution_count": 87,
   "metadata": {
    "collapsed": false
   },
   "outputs": [],
   "source": [
    "# Model prototxt file\n",
    "#model_prototxt = caffe_root + 'models/bvlc_googlenet/deploy.prototxt'\n",
    "model_prototxt = caffe_root + 'models/bvlc_reference_caffenet/deploy.prototxt' \n",
    "# Model caffemodel file\n",
    "#model_trained = caffe_root + 'models/bvlc_googlenet/bvlc_googlenet.caffemodel'\n",
    "model_trained = caffe_root + 'models/bvlc_reference_caffenet/bvlc_reference_caffenet.caffemodel' \n",
    "\n",
    "\n",
    "# Path to the mean image (used for input processing)\n",
    "mean_path = caffe_root + 'python/caffe/imagenet/ilsvrc_2012_mean.npy'\n",
    "\n",
    "# Setting this to CPU, but feel free to use GPU if you have CUDA installed\n",
    "caffe.set_mode_cpu()\n",
    "# Loading the Caffe model, setting preprocessing parameters\n",
    "net = caffe.Classifier(model_prototxt, model_trained,\n",
    "                       mean=np.load(mean_path).mean(1).mean(1),\n",
    "                       channel_swap=(2,1,0),\n",
    "                       \n",
    "                       raw_scale=255,\n",
    "                       image_dims=(256, 256))"
   ]
  },
  {
   "cell_type": "code",
   "execution_count": 88,
   "metadata": {
    "collapsed": false
   },
   "outputs": [
    {
     "name": "stdout",
     "output_type": "stream",
     "text": [
      "/home/payam/dataset/cd_covers/Palm:\n",
      "/home/payam/dataset/cd_covers/Droid:\n",
      "/home/payam/dataset/cd_covers/Canon:\n",
      "/home/payam/dataset/cd_covers/Reference:\n",
      "/home/payam/dataset/cd_covers/E63:\n",
      "/home/payam/dataset/dvd_covers/Palm:\n",
      "/home/payam/dataset/dvd_covers/Droid:\n",
      "/home/payam/dataset/dvd_covers/Canon:\n",
      "/home/payam/dataset/dvd_covers/Reference:\n",
      "/home/payam/dataset/dvd_covers/E63:\n",
      "/home/payam/dataset/museum_paintings/Palm:\n",
      "/home/payam/dataset/museum_paintings/Droid:\n",
      "/home/payam/dataset/museum_paintings/Canon:\n",
      "/home/payam/dataset/museum_paintings/Reference:\n",
      "/home/payam/dataset/museum_paintings/E63:\n",
      "/home/payam/dataset/book_covers/5800:\n",
      "/home/payam/dataset/book_covers/Droid:\n",
      "/home/payam/dataset/book_covers/iPhone:\n",
      "/home/payam/dataset/book_covers/Canon:\n",
      "/home/payam/dataset/book_covers/Reference:\n"
     ]
    }
   ],
   "source": [
    "dateset_path = '/home/payam/dataset/'\n",
    "for f in os.listdir(dateset_path):\n",
    "        if os.path.isdir(dateset_path + f):\n",
    "            in_dir = dateset_path + f + '/'\n",
    "            for ff in os.listdir(in_dir):\n",
    "                if os.path.isdir(in_dir + ff):\n",
    "                    print in_dir + ff + ':'"
   ]
  },
  {
   "cell_type": "code",
   "execution_count": 89,
   "metadata": {
    "collapsed": true
   },
   "outputs": [],
   "source": [
    "input_folder = '/home/payam/dataset/book_covers/Reference'\n",
    "#for i in range(1,2):\n",
    "i = 1\n",
    "file_name =  str(i).zfill(3) + '.jpg'\n",
    "file_name = input_folder + file_name\n",
    "if os.path.isfile(file_name):\n",
    "    image = caffe.io.load_image(file_name)\n",
    "    prediction = net.predict([image], oversample=False,)\n",
    "    #np.savetxt(writer, net.blobs[layer_name].data[0].reshape(1,-1), fmt='%.8g')"
   ]
  },
  {
   "cell_type": "code",
   "execution_count": 90,
   "metadata": {
    "collapsed": true
   },
   "outputs": [],
   "source": [
    "#layer_name = 'pool5/7x7_s1'\n",
    "layer_name = 'fc8'"
   ]
  },
  {
   "cell_type": "code",
   "execution_count": 98,
   "metadata": {
    "collapsed": false
   },
   "outputs": [
    {
     "data": {
      "text/plain": [
       "(1, 10000)"
      ]
     },
     "execution_count": 98,
     "metadata": {},
     "output_type": "execute_result"
    }
   ],
   "source": [
    "#import Caffe.blob\n",
    "net.blobs[layer_name].data.reshape(1,-1).shape"
   ]
  },
  {
   "cell_type": "code",
   "execution_count": 92,
   "metadata": {
    "collapsed": false
   },
   "outputs": [
    {
     "name": "stdout",
     "output_type": "stream",
     "text": [
      "1000\n",
      "1000\n",
      "1000\n",
      "1000\n",
      "1000\n",
      "1000\n",
      "1000\n",
      "1000\n",
      "1000\n",
      "1000\n"
     ]
    },
    {
     "ename": "IndexError",
     "evalue": "index 10 is out of bounds for axis 0 with size 10",
     "output_type": "error",
     "traceback": [
      "\u001b[1;31m---------------------------------------------------------------------------\u001b[0m",
      "\u001b[1;31mIndexError\u001b[0m                                Traceback (most recent call last)",
      "\u001b[1;32m<ipython-input-92-c48639e6ff82>\u001b[0m in \u001b[0;36m<module>\u001b[1;34m()\u001b[0m\n\u001b[0;32m      2\u001b[0m \u001b[0mres\u001b[0m \u001b[1;33m=\u001b[0m \u001b[1;33m[\u001b[0m\u001b[1;33m]\u001b[0m\u001b[1;33m\u001b[0m\u001b[0m\n\u001b[0;32m      3\u001b[0m \u001b[1;32mfor\u001b[0m \u001b[0mi\u001b[0m \u001b[1;32min\u001b[0m \u001b[0mrange\u001b[0m\u001b[1;33m(\u001b[0m\u001b[1;36m11\u001b[0m\u001b[1;33m)\u001b[0m\u001b[1;33m:\u001b[0m\u001b[1;33m\u001b[0m\u001b[0m\n\u001b[1;32m----> 4\u001b[1;33m     \u001b[1;32mprint\u001b[0m \u001b[0mlen\u001b[0m\u001b[1;33m(\u001b[0m\u001b[0mnet\u001b[0m\u001b[1;33m.\u001b[0m\u001b[0mblobs\u001b[0m\u001b[1;33m[\u001b[0m\u001b[0mlayer_name\u001b[0m\u001b[1;33m]\u001b[0m\u001b[1;33m.\u001b[0m\u001b[0mdata\u001b[0m\u001b[1;33m[\u001b[0m\u001b[0mi\u001b[0m\u001b[1;33m]\u001b[0m\u001b[1;33m)\u001b[0m\u001b[1;33m\u001b[0m\u001b[0m\n\u001b[0m\u001b[0;32m      5\u001b[0m     \u001b[0mres\u001b[0m \u001b[1;33m=\u001b[0m \u001b[0mnp\u001b[0m\u001b[1;33m.\u001b[0m\u001b[0mappend\u001b[0m\u001b[1;33m(\u001b[0m\u001b[0mres\u001b[0m \u001b[1;33m,\u001b[0m \u001b[0mnet\u001b[0m\u001b[1;33m.\u001b[0m\u001b[0mblobs\u001b[0m\u001b[1;33m[\u001b[0m\u001b[0mlayer_name\u001b[0m\u001b[1;33m]\u001b[0m\u001b[1;33m.\u001b[0m\u001b[0mdata\u001b[0m\u001b[1;33m[\u001b[0m\u001b[0mi\u001b[0m\u001b[1;33m]\u001b[0m\u001b[1;33m)\u001b[0m\u001b[1;33m\u001b[0m\u001b[0m\n\u001b[0;32m      6\u001b[0m     \u001b[1;31m#res = np.concatenate((res, net.blobs[layer_name].data[i]), axis=0)\u001b[0m\u001b[1;33m\u001b[0m\u001b[1;33m\u001b[0m\u001b[0m\n",
      "\u001b[1;31mIndexError\u001b[0m: index 10 is out of bounds for axis 0 with size 10"
     ]
    }
   ],
   "source": [
    "import numpy as np\n",
    "res = []\n",
    "for i in range(11):\n",
    "    print len(net.blobs[layer_name].data[i])\n",
    "    res = np.append(res , net.blobs[layer_name].data[i])\n",
    "    #res = np.concatenate((res, net.blobs[layer_name].data[i]), axis=0)\n",
    "print len(res)"
   ]
  },
  {
   "cell_type": "code",
   "execution_count": 85,
   "metadata": {
    "collapsed": false
   },
   "outputs": [
    {
     "data": {
      "text/plain": [
       "(10240,)"
      ]
     },
     "execution_count": 85,
     "metadata": {},
     "output_type": "execute_result"
    }
   ],
   "source": [
    "res.shape"
   ]
  },
  {
   "cell_type": "code",
   "execution_count": null,
   "metadata": {
    "collapsed": true
   },
   "outputs": [],
   "source": [
    "caffe.io."
   ]
  }
 ],
 "metadata": {
  "kernelspec": {
   "display_name": "Python [Root]",
   "language": "python",
   "name": "Python [Root]"
  },
  "language_info": {
   "codemirror_mode": {
    "name": "ipython",
    "version": 2
   },
   "file_extension": ".py",
   "mimetype": "text/x-python",
   "name": "python",
   "nbconvert_exporter": "python",
   "pygments_lexer": "ipython2",
   "version": "2.7.11"
  }
 },
 "nbformat": 4,
 "nbformat_minor": 0
}
