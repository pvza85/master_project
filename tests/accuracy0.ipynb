{
 "cells": [
  {
   "cell_type": "code",
   "execution_count": 9,
   "metadata": {
    "collapsed": false
   },
   "outputs": [
    {
     "name": "stdout",
     "output_type": "stream",
     "text": [
      "/home/payam/dataset/cd_covers/Palm/\n",
      "/home/payam/dataset/cd_covers/Droid/\n",
      "/home/payam/dataset/cd_covers/Canon/\n",
      "/home/payam/dataset/cd_covers/Reference/\n",
      "/home/payam/dataset/cd_covers/E63/\n",
      "/home/payam/dataset/dvd_covers/Palm/\n",
      "/home/payam/dataset/dvd_covers/Droid/\n",
      "/home/payam/dataset/dvd_covers/Canon/\n",
      "/home/payam/dataset/dvd_covers/Reference/\n",
      "/home/payam/dataset/dvd_covers/E63/\n",
      "/home/payam/dataset/museum_paintings/Palm/\n",
      "/home/payam/dataset/museum_paintings/Droid/\n",
      "/home/payam/dataset/museum_paintings/Canon/\n",
      "/home/payam/dataset/museum_paintings/Reference/\n",
      "/home/payam/dataset/museum_paintings/E63/\n",
      "/home/payam/dataset/book_covers/5800/\n",
      "/home/payam/dataset/book_covers/Droid/\n",
      "/home/payam/dataset/book_covers/iPhone/\n",
      "/home/payam/dataset/book_covers/Canon/\n",
      "/home/payam/dataset/book_covers/Reference/\n"
     ]
    }
   ],
   "source": [
    "import os\n",
    "directory = '/home/payam/dataset/'\n",
    "for f in os.listdir(directory):\n",
    "    if os.path.isdir(directory + f):\n",
    "        in_dir = directory + f + '/'\n",
    "        for ff in os.listdir(in_dir):\n",
    "            if os.path.isdir(in_dir + ff):\n",
    "                print in_dir + ff + '/'"
   ]
  },
  {
   "cell_type": "code",
   "execution_count": 10,
   "metadata": {
    "collapsed": true
   },
   "outputs": [],
   "source": [
    "import os\n",
    "import numpy as np\n",
    "from scipy.stats.stats import pearsonr\n",
    "\n",
    "def calculate_accuracy(ref, test):\n",
    "    count_pear = 0\n",
    "    for i in range(0,len(test)):\n",
    "        max_pear = 0.0\n",
    "        max_pear_index = -1\n",
    "        for j in range(0,len(ref)):\n",
    "            pear = abs(pearsonr(ref[j], test[i])[0])\n",
    "            if pear > max_pear:\n",
    "                max_pear_index = j\n",
    "                max_pear = pear\n",
    "        if i == max_pear_index:\n",
    "            count_pear += 1\n",
    "    return count_pear"
   ]
  },
  {
   "cell_type": "code",
   "execution_count": 12,
   "metadata": {
    "collapsed": false
   },
   "outputs": [],
   "source": [
    "directory = '/home/payam/dataset/'\n",
    "caffe_accuracy = {}\n",
    "google_accuracy = {}\n",
    "for f in os.listdir(directory):\n",
    "    if os.path.isdir(directory + f):\n",
    "        in_dir = directory + f + '/'\n",
    "        ref_caffe = np.loadtxt(in_dir + 'Reference/caffenet_features.txt')\n",
    "        ref_google = np.loadtxt(in_dir + 'Reference/googlenet_features.txt')\n",
    "        res_caffe = {}\n",
    "        res_google = {}\n",
    "        for ff in os.listdir(in_dir):\n",
    "            if os.path.isdir(in_dir + ff) and ff != 'Reference':\n",
    "                test_caffe = np.loadtxt(in_dir + ff + '/caffenet_features.txt')\n",
    "                test_google = np.loadtxt(in_dir + ff + '/googlenet_features.txt')\n",
    "                res_caffe[ff] = calculate_accuracy(ref_caffe, test_caffe)\n",
    "                res_google[ff] = calculate_accuracy(ref_google, test_google)\n",
    "        caffe_accuracy[f] = res_caffe\n",
    "        google_accuracy[f] = res_google"
   ]
  },
  {
   "cell_type": "code",
   "execution_count": 13,
   "metadata": {
    "collapsed": false
   },
   "outputs": [
    {
     "data": {
      "text/plain": [
       "{'book_covers': {'5800': 18, 'Canon': 22, 'Droid': 28, 'iPhone': 27},\n",
       " 'cd_covers': {'Canon': 18, 'Droid': 41, 'E63': 23, 'Palm': 21},\n",
       " 'dvd_covers': {'Canon': 32, 'Droid': 29, 'E63': 7, 'Palm': 7},\n",
       " 'museum_paintings': {'Canon': 19, 'Droid': 23, 'E63': 20, 'Palm': 18}}"
      ]
     },
     "execution_count": 13,
     "metadata": {},
     "output_type": "execute_result"
    }
   ],
   "source": [
    "caffe_accuracy"
   ]
  },
  {
   "cell_type": "code",
   "execution_count": 14,
   "metadata": {
    "collapsed": false
   },
   "outputs": [
    {
     "data": {
      "text/plain": [
       "{'book_covers': {'5800': 28, 'Canon': 32, 'Droid': 33, 'iPhone': 41},\n",
       " 'cd_covers': {'Canon': 31, 'Droid': 63, 'E63': 37, 'Palm': 34},\n",
       " 'dvd_covers': {'Canon': 36, 'Droid': 30, 'E63': 14, 'Palm': 9},\n",
       " 'museum_paintings': {'Canon': 28, 'Droid': 35, 'E63': 30, 'Palm': 25}}"
      ]
     },
     "execution_count": 14,
     "metadata": {},
     "output_type": "execute_result"
    }
   ],
   "source": [
    "google_accuracy"
   ]
  },
  {
   "cell_type": "code",
   "execution_count": null,
   "metadata": {
    "collapsed": true
   },
   "outputs": [],
   "source": []
  }
 ],
 "metadata": {
  "kernelspec": {
   "display_name": "Python [Root]",
   "language": "python",
   "name": "Python [Root]"
  },
  "language_info": {
   "codemirror_mode": {
    "name": "ipython",
    "version": 2
   },
   "file_extension": ".py",
   "mimetype": "text/x-python",
   "name": "python",
   "nbconvert_exporter": "python",
   "pygments_lexer": "ipython2",
   "version": "2.7.11"
  }
 },
 "nbformat": 4,
 "nbformat_minor": 0
}
