{
 "cells": [
  {
   "cell_type": "code",
   "execution_count": 1,
   "metadata": {
    "collapsed": false
   },
   "outputs": [],
   "source": [
    "import sys\n",
    "sys.path.insert(0, '/home/payam/workspace/master_project/src/prediction/')\n",
    "sys.path.insert(0, '/home/payam/workspace/master_project/src/feature_extractor/')\n",
    "from SimpleFeatureExtractor import SimpleFeatureExtractor\n",
    "from EuclideanDistancePredictor import EuclideanDistancePredictor\n",
    "from CombinedDistancePredictor import CombinedDistancePredictor"
   ]
  },
  {
   "cell_type": "code",
   "execution_count": 2,
   "metadata": {
    "collapsed": false
   },
   "outputs": [
    {
     "name": "stdout",
     "output_type": "stream",
     "text": [
      "_bvlc_googlenet_pool57x7_s1_0\n",
      "CPU times: user 3h 53min 22s, sys: 5min 11s, total: 3h 58min 33s\n",
      "Wall time: 2h 33min 8s\n"
     ]
    }
   ],
   "source": [
    "#extractor = SimpleFeatureExtractor()\n",
    "#postfix1 = extractor.postfix\n",
    "#print postfix1 \n",
    "#%time extractor.save_features()\n",
    "extractor = SimpleFeatureExtractor(model_name = 'bvlc_googlenet', layer_name = 'pool5/7x7_s1')\n",
    "postfix2 = extractor.postfix\n",
    "print postfix2\n",
    "%time extractor.save_features()\n",
    "del extractor"
   ]
  },
  {
   "cell_type": "code",
   "execution_count": 6,
   "metadata": {
    "collapsed": true
   },
   "outputs": [],
   "source": [
    "postfix1 = '__bvlc_reference_caffenetfc80'\n",
    "postfix2 = '__bvlc_googlenet_pool57x7_s1_0'"
   ]
  },
  {
   "cell_type": "code",
   "execution_count": 8,
   "metadata": {
    "collapsed": false
   },
   "outputs": [
    {
     "name": "stdout",
     "output_type": "stream",
     "text": [
      "CPU times: user 4.73 s, sys: 20 ms, total: 4.75 s\n",
      "Wall time: 4.75 s\n"
     ]
    },
    {
     "data": {
      "text/plain": [
       "{'book_covers': {'5800': 21.782178217821784,\n",
       "  'Canon': 25.742574257425744,\n",
       "  'Droid': 28.71287128712871,\n",
       "  'iPhone': 34.65346534653465},\n",
       " 'business_cards': {'Canon': 19.0, 'Droid': 22.0, 'E63': 20.0, 'Palm': 9.0},\n",
       " 'cd_covers': {'Canon': 21.0, 'Droid': 50.0, 'E63': 23.0, 'Palm': 19.0},\n",
       " 'dvd_covers': {'Canon': 28.000000000000004,\n",
       "  'Droid': 30.0,\n",
       "  'E63': 7.000000000000001,\n",
       "  'Palm': 9.0},\n",
       " 'landmarks': {'Query': 9.980039920159681},\n",
       " 'museum_paintings': {'Canon': 26.373626373626376,\n",
       "  'Droid': 31.868131868131865,\n",
       "  'E63': 28.57142857142857,\n",
       "  'Palm': 29.67032967032967},\n",
       " 'print': {'Canon': 7.000000000000001, 'Droid': 2.0, 'E63': 3.0, 'Palm': 3.0}}"
      ]
     },
     "execution_count": 8,
     "metadata": {},
     "output_type": "execute_result"
    }
   ],
   "source": [
    "predictor = EuclideanDistancePredictor( feature_file_postfix=postfix1)\n",
    "%time res1 = predictor.predict()\n",
    "res1"
   ]
  },
  {
   "cell_type": "code",
   "execution_count": 9,
   "metadata": {
    "collapsed": false
   },
   "outputs": [
    {
     "name": "stdout",
     "output_type": "stream",
     "text": [
      "CPU times: user 29.3 s, sys: 40 ms, total: 29.3 s\n",
      "Wall time: 29.3 s\n"
     ]
    },
    {
     "data": {
      "text/plain": [
       "{'book_covers': {'5800': 38.613861386138616,\n",
       "  'Canon': 41.584158415841586,\n",
       "  'Droid': 39.603960396039604,\n",
       "  'iPhone': 49.504950495049506},\n",
       " 'business_cards': {'Canon': 36.0, 'Droid': 42.0, 'E63': 44.0, 'Palm': 19.0},\n",
       " 'cd_covers': {'Canon': 39.0, 'Droid': 68.0, 'E63': 45.0, 'Palm': 42.0},\n",
       " 'dvd_covers': {'Canon': 41.0, 'Droid': 40.0, 'E63': 16.0, 'Palm': 15.0},\n",
       " 'landmarks': {'Query': 26.94610778443114},\n",
       " 'museum_paintings': {'Canon': 40.65934065934066,\n",
       "  'Droid': 43.956043956043956,\n",
       "  'E63': 41.75824175824176,\n",
       "  'Palm': 32.967032967032964},\n",
       " 'print': {'Canon': 14.000000000000002, 'Droid': 5.0, 'E63': 8.0, 'Palm': 6.0}}"
      ]
     },
     "execution_count": 9,
     "metadata": {},
     "output_type": "execute_result"
    }
   ],
   "source": [
    "predictor = CombinedDistancePredictor( feature_file_postfix=postfix2)\n",
    "%time res2 = predictor.predict()\n",
    "res2"
   ]
  },
  {
   "cell_type": "code",
   "execution_count": 10,
   "metadata": {
    "collapsed": false
   },
   "outputs": [],
   "source": [
    "import pandas as pd\n",
    "from pandas import DataFrame"
   ]
  },
  {
   "cell_type": "code",
   "execution_count": 11,
   "metadata": {
    "collapsed": true
   },
   "outputs": [],
   "source": [
    "df1 = DataFrame(res1)"
   ]
  },
  {
   "cell_type": "code",
   "execution_count": 12,
   "metadata": {
    "collapsed": false,
    "scrolled": true
   },
   "outputs": [
    {
     "data": {
      "text/html": [
       "<div>\n",
       "<table border=\"1\" class=\"dataframe\">\n",
       "  <thead>\n",
       "    <tr style=\"text-align: right;\">\n",
       "      <th></th>\n",
       "      <th>book_covers</th>\n",
       "      <th>business_cards</th>\n",
       "      <th>cd_covers</th>\n",
       "      <th>dvd_covers</th>\n",
       "      <th>landmarks</th>\n",
       "      <th>museum_paintings</th>\n",
       "      <th>print</th>\n",
       "    </tr>\n",
       "  </thead>\n",
       "  <tbody>\n",
       "    <tr>\n",
       "      <th>5800</th>\n",
       "      <td>21.782178</td>\n",
       "      <td>NaN</td>\n",
       "      <td>NaN</td>\n",
       "      <td>NaN</td>\n",
       "      <td>NaN</td>\n",
       "      <td>NaN</td>\n",
       "      <td>NaN</td>\n",
       "    </tr>\n",
       "    <tr>\n",
       "      <th>Canon</th>\n",
       "      <td>25.742574</td>\n",
       "      <td>19.0</td>\n",
       "      <td>21.0</td>\n",
       "      <td>28.0</td>\n",
       "      <td>NaN</td>\n",
       "      <td>26.373626</td>\n",
       "      <td>7.0</td>\n",
       "    </tr>\n",
       "    <tr>\n",
       "      <th>Droid</th>\n",
       "      <td>28.712871</td>\n",
       "      <td>22.0</td>\n",
       "      <td>50.0</td>\n",
       "      <td>30.0</td>\n",
       "      <td>NaN</td>\n",
       "      <td>31.868132</td>\n",
       "      <td>2.0</td>\n",
       "    </tr>\n",
       "    <tr>\n",
       "      <th>E63</th>\n",
       "      <td>NaN</td>\n",
       "      <td>20.0</td>\n",
       "      <td>23.0</td>\n",
       "      <td>7.0</td>\n",
       "      <td>NaN</td>\n",
       "      <td>28.571429</td>\n",
       "      <td>3.0</td>\n",
       "    </tr>\n",
       "    <tr>\n",
       "      <th>Palm</th>\n",
       "      <td>NaN</td>\n",
       "      <td>9.0</td>\n",
       "      <td>19.0</td>\n",
       "      <td>9.0</td>\n",
       "      <td>NaN</td>\n",
       "      <td>29.670330</td>\n",
       "      <td>3.0</td>\n",
       "    </tr>\n",
       "    <tr>\n",
       "      <th>Query</th>\n",
       "      <td>NaN</td>\n",
       "      <td>NaN</td>\n",
       "      <td>NaN</td>\n",
       "      <td>NaN</td>\n",
       "      <td>9.98004</td>\n",
       "      <td>NaN</td>\n",
       "      <td>NaN</td>\n",
       "    </tr>\n",
       "    <tr>\n",
       "      <th>iPhone</th>\n",
       "      <td>34.653465</td>\n",
       "      <td>NaN</td>\n",
       "      <td>NaN</td>\n",
       "      <td>NaN</td>\n",
       "      <td>NaN</td>\n",
       "      <td>NaN</td>\n",
       "      <td>NaN</td>\n",
       "    </tr>\n",
       "  </tbody>\n",
       "</table>\n",
       "</div>"
      ],
      "text/plain": [
       "        book_covers  business_cards  cd_covers  dvd_covers  landmarks  \\\n",
       "5800      21.782178             NaN        NaN         NaN        NaN   \n",
       "Canon     25.742574            19.0       21.0        28.0        NaN   \n",
       "Droid     28.712871            22.0       50.0        30.0        NaN   \n",
       "E63             NaN            20.0       23.0         7.0        NaN   \n",
       "Palm            NaN             9.0       19.0         9.0        NaN   \n",
       "Query           NaN             NaN        NaN         NaN    9.98004   \n",
       "iPhone    34.653465             NaN        NaN         NaN        NaN   \n",
       "\n",
       "        museum_paintings  print  \n",
       "5800                 NaN    NaN  \n",
       "Canon          26.373626    7.0  \n",
       "Droid          31.868132    2.0  \n",
       "E63            28.571429    3.0  \n",
       "Palm           29.670330    3.0  \n",
       "Query                NaN    NaN  \n",
       "iPhone               NaN    NaN  "
      ]
     },
     "execution_count": 12,
     "metadata": {},
     "output_type": "execute_result"
    }
   ],
   "source": [
    "df1"
   ]
  },
  {
   "cell_type": "code",
   "execution_count": 13,
   "metadata": {
    "collapsed": false
   },
   "outputs": [
    {
     "data": {
      "text/html": [
       "<div>\n",
       "<table border=\"1\" class=\"dataframe\">\n",
       "  <thead>\n",
       "    <tr style=\"text-align: right;\">\n",
       "      <th></th>\n",
       "      <th>book_covers</th>\n",
       "      <th>business_cards</th>\n",
       "      <th>cd_covers</th>\n",
       "      <th>dvd_covers</th>\n",
       "      <th>landmarks</th>\n",
       "      <th>museum_paintings</th>\n",
       "      <th>print</th>\n",
       "    </tr>\n",
       "  </thead>\n",
       "  <tbody>\n",
       "    <tr>\n",
       "      <th>5800</th>\n",
       "      <td>38.613861</td>\n",
       "      <td>NaN</td>\n",
       "      <td>NaN</td>\n",
       "      <td>NaN</td>\n",
       "      <td>NaN</td>\n",
       "      <td>NaN</td>\n",
       "      <td>NaN</td>\n",
       "    </tr>\n",
       "    <tr>\n",
       "      <th>Canon</th>\n",
       "      <td>41.584158</td>\n",
       "      <td>36.0</td>\n",
       "      <td>39.0</td>\n",
       "      <td>41.0</td>\n",
       "      <td>NaN</td>\n",
       "      <td>40.659341</td>\n",
       "      <td>14.0</td>\n",
       "    </tr>\n",
       "    <tr>\n",
       "      <th>Droid</th>\n",
       "      <td>39.603960</td>\n",
       "      <td>42.0</td>\n",
       "      <td>68.0</td>\n",
       "      <td>40.0</td>\n",
       "      <td>NaN</td>\n",
       "      <td>43.956044</td>\n",
       "      <td>5.0</td>\n",
       "    </tr>\n",
       "    <tr>\n",
       "      <th>E63</th>\n",
       "      <td>NaN</td>\n",
       "      <td>44.0</td>\n",
       "      <td>45.0</td>\n",
       "      <td>16.0</td>\n",
       "      <td>NaN</td>\n",
       "      <td>41.758242</td>\n",
       "      <td>8.0</td>\n",
       "    </tr>\n",
       "    <tr>\n",
       "      <th>Palm</th>\n",
       "      <td>NaN</td>\n",
       "      <td>19.0</td>\n",
       "      <td>42.0</td>\n",
       "      <td>15.0</td>\n",
       "      <td>NaN</td>\n",
       "      <td>32.967033</td>\n",
       "      <td>6.0</td>\n",
       "    </tr>\n",
       "    <tr>\n",
       "      <th>Query</th>\n",
       "      <td>NaN</td>\n",
       "      <td>NaN</td>\n",
       "      <td>NaN</td>\n",
       "      <td>NaN</td>\n",
       "      <td>26.946108</td>\n",
       "      <td>NaN</td>\n",
       "      <td>NaN</td>\n",
       "    </tr>\n",
       "    <tr>\n",
       "      <th>iPhone</th>\n",
       "      <td>49.504950</td>\n",
       "      <td>NaN</td>\n",
       "      <td>NaN</td>\n",
       "      <td>NaN</td>\n",
       "      <td>NaN</td>\n",
       "      <td>NaN</td>\n",
       "      <td>NaN</td>\n",
       "    </tr>\n",
       "  </tbody>\n",
       "</table>\n",
       "</div>"
      ],
      "text/plain": [
       "        book_covers  business_cards  cd_covers  dvd_covers  landmarks  \\\n",
       "5800      38.613861             NaN        NaN         NaN        NaN   \n",
       "Canon     41.584158            36.0       39.0        41.0        NaN   \n",
       "Droid     39.603960            42.0       68.0        40.0        NaN   \n",
       "E63             NaN            44.0       45.0        16.0        NaN   \n",
       "Palm            NaN            19.0       42.0        15.0        NaN   \n",
       "Query           NaN             NaN        NaN         NaN  26.946108   \n",
       "iPhone    49.504950             NaN        NaN         NaN        NaN   \n",
       "\n",
       "        museum_paintings  print  \n",
       "5800                 NaN    NaN  \n",
       "Canon          40.659341   14.0  \n",
       "Droid          43.956044    5.0  \n",
       "E63            41.758242    8.0  \n",
       "Palm           32.967033    6.0  \n",
       "Query                NaN    NaN  \n",
       "iPhone               NaN    NaN  "
      ]
     },
     "execution_count": 13,
     "metadata": {},
     "output_type": "execute_result"
    }
   ],
   "source": [
    "df2 = DataFrame(res2)\n",
    "df2"
   ]
  },
  {
   "cell_type": "code",
   "execution_count": 16,
   "metadata": {
    "collapsed": false
   },
   "outputs": [
    {
     "data": {
      "text/html": [
       "<div>\n",
       "<table border=\"1\" class=\"dataframe\">\n",
       "  <thead>\n",
       "    <tr style=\"text-align: right;\">\n",
       "      <th></th>\n",
       "      <th>book_covers</th>\n",
       "      <th>business_cards</th>\n",
       "      <th>cd_covers</th>\n",
       "      <th>dvd_covers</th>\n",
       "      <th>landmarks</th>\n",
       "      <th>museum_paintings</th>\n",
       "      <th>print</th>\n",
       "    </tr>\n",
       "  </thead>\n",
       "  <tbody>\n",
       "    <tr>\n",
       "      <th>5800</th>\n",
       "      <td>38.6139</td>\n",
       "      <td>-</td>\n",
       "      <td>-</td>\n",
       "      <td>-</td>\n",
       "      <td>-</td>\n",
       "      <td>-</td>\n",
       "      <td>-</td>\n",
       "    </tr>\n",
       "    <tr>\n",
       "      <th>Canon</th>\n",
       "      <td>41.5842</td>\n",
       "      <td>36</td>\n",
       "      <td>39</td>\n",
       "      <td>41</td>\n",
       "      <td>-</td>\n",
       "      <td>40.6593</td>\n",
       "      <td>14</td>\n",
       "    </tr>\n",
       "    <tr>\n",
       "      <th>Droid</th>\n",
       "      <td>39.604</td>\n",
       "      <td>42</td>\n",
       "      <td>68</td>\n",
       "      <td>40</td>\n",
       "      <td>-</td>\n",
       "      <td>43.956</td>\n",
       "      <td>5</td>\n",
       "    </tr>\n",
       "    <tr>\n",
       "      <th>E63</th>\n",
       "      <td>-</td>\n",
       "      <td>44</td>\n",
       "      <td>45</td>\n",
       "      <td>16</td>\n",
       "      <td>-</td>\n",
       "      <td>41.7582</td>\n",
       "      <td>8</td>\n",
       "    </tr>\n",
       "    <tr>\n",
       "      <th>Palm</th>\n",
       "      <td>-</td>\n",
       "      <td>19</td>\n",
       "      <td>42</td>\n",
       "      <td>15</td>\n",
       "      <td>-</td>\n",
       "      <td>32.967</td>\n",
       "      <td>6</td>\n",
       "    </tr>\n",
       "    <tr>\n",
       "      <th>Query</th>\n",
       "      <td>-</td>\n",
       "      <td>-</td>\n",
       "      <td>-</td>\n",
       "      <td>-</td>\n",
       "      <td>26.9461</td>\n",
       "      <td>-</td>\n",
       "      <td>-</td>\n",
       "    </tr>\n",
       "    <tr>\n",
       "      <th>iPhone</th>\n",
       "      <td>49.505</td>\n",
       "      <td>-</td>\n",
       "      <td>-</td>\n",
       "      <td>-</td>\n",
       "      <td>-</td>\n",
       "      <td>-</td>\n",
       "      <td>-</td>\n",
       "    </tr>\n",
       "  </tbody>\n",
       "</table>\n",
       "</div>"
      ],
      "text/plain": [
       "       book_covers business_cards cd_covers dvd_covers landmarks  \\\n",
       "5800       38.6139              -         -          -         -   \n",
       "Canon      41.5842             36        39         41         -   \n",
       "Droid       39.604             42        68         40         -   \n",
       "E63              -             44        45         16         -   \n",
       "Palm             -             19        42         15         -   \n",
       "Query            -              -         -          -   26.9461   \n",
       "iPhone      49.505              -         -          -         -   \n",
       "\n",
       "       museum_paintings print  \n",
       "5800                  -     -  \n",
       "Canon           40.6593    14  \n",
       "Droid            43.956     5  \n",
       "E63             41.7582     8  \n",
       "Palm             32.967     6  \n",
       "Query                 -     -  \n",
       "iPhone                -     -  "
      ]
     },
     "execution_count": 16,
     "metadata": {},
     "output_type": "execute_result"
    }
   ],
   "source": [
    "import numpy as np\n",
    "df2.replace(np.nan, '-')"
   ]
  },
  {
   "cell_type": "code",
   "execution_count": null,
   "metadata": {
    "collapsed": true
   },
   "outputs": [],
   "source": []
  }
 ],
 "metadata": {
  "kernelspec": {
   "display_name": "Python [Root]",
   "language": "python",
   "name": "Python [Root]"
  },
  "language_info": {
   "codemirror_mode": {
    "name": "ipython",
    "version": 2
   },
   "file_extension": ".py",
   "mimetype": "text/x-python",
   "name": "python",
   "nbconvert_exporter": "python",
   "pygments_lexer": "ipython2",
   "version": "2.7.11"
  }
 },
 "nbformat": 4,
 "nbformat_minor": 0
}
