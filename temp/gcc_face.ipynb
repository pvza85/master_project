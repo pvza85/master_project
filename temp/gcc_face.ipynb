{
 "cells": [
  {
   "cell_type": "code",
   "execution_count": 1,
   "metadata": {
    "collapsed": true
   },
   "outputs": [],
   "source": [
    "from SimpleFeatureExtractor import SimpleFeatureExtractor\n",
    "import matplotlib\n",
    "matplotlib.use(\"Pdf\")"
   ]
  },
  {
   "cell_type": "code",
   "execution_count": null,
   "metadata": {
    "collapsed": false
   },
   "outputs": [
    {
     "name": "stdout",
     "output_type": "stream",
     "text": [
      "cd_covers:\n",
      "\n",
      "\tReference\n",
      "\n"
     ]
    }
   ],
   "source": [
    "model = 'vgg_face_caffe'\n",
    "layer = 'fc8'\n",
    "folders = ['/home/ubuntu/data/cd_covers/']\n",
    "extractor = SimpleFeatureExtractor( folder_list = folders, model_name = model, layer_name = layer)\n",
    "%time post = extractor.save_features()"
   ]
  },
  {
   "cell_type": "code",
   "execution_count": null,
   "metadata": {
    "collapsed": true
   },
   "outputs": [],
   "source": []
  }
 ],
 "metadata": {
  "kernelspec": {
   "display_name": "Python 2",
   "language": "python",
   "name": "python2"
  },
  "language_info": {
   "codemirror_mode": {
    "name": "ipython",
    "version": 2
   },
   "file_extension": ".py",
   "mimetype": "text/x-python",
   "name": "python",
   "nbconvert_exporter": "python",
   "pygments_lexer": "ipython2",
   "version": "2.7.6"
  }
 },
 "nbformat": 4,
 "nbformat_minor": 0
}
