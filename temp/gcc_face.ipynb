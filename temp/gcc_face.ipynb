{
 "cells": [
  {
   "cell_type": "code",
   "execution_count": 1,
   "metadata": {
    "collapsed": true
   },
   "outputs": [],
   "source": [
<<<<<<< HEAD
    "from SimpleFeatureExtractor import SimpleFeatureExtractor"
   ]
  },
  {
   "cell_type": "markdown",
   "metadata": {},
   "source": [
    "(self, dataset_path = None, folder_list = None, model_name = 'bvlc_reference_caffenet',\n",
    "                 layer_name = 'fc8', caffe_root = '/home/ubuntu/caffe', mode='gpu')"
=======
    "from SimpleFeatureExtractor import SimpleFeatureExtractor\n",
    "import matplotlib\n",
    "matplotlib.use(\"Pdf\")"
>>>>>>> 982f5d8a37f186fe422f58e5540840969aabe541
   ]
  },
  {
   "cell_type": "code",
<<<<<<< HEAD
   "execution_count": 3,
=======
   "execution_count": null,
>>>>>>> 982f5d8a37f186fe422f58e5540840969aabe541
   "metadata": {
    "collapsed": false
   },
   "outputs": [
    {
<<<<<<< HEAD
     "ename": "OSError",
     "evalue": "[Errno 2] No such file or directory: '/home/ubuntu/data/cd_covers/'",
     "output_type": "error",
     "traceback": [
      "\u001b[1;31m---------------------------------------------------------------------------\u001b[0m",
      "\u001b[1;31mOSError\u001b[0m                                   Traceback (most recent call last)",
      "\u001b[1;32m<ipython-input-3-4e1de5f65b8d>\u001b[0m in \u001b[0;36m<module>\u001b[1;34m()\u001b[0m\n\u001b[0;32m      2\u001b[0m \u001b[0mlayer\u001b[0m \u001b[1;33m=\u001b[0m \u001b[1;34m'fc8'\u001b[0m\u001b[1;33m\u001b[0m\u001b[0m\n\u001b[0;32m      3\u001b[0m \u001b[0mfolders\u001b[0m \u001b[1;33m=\u001b[0m \u001b[1;33m[\u001b[0m\u001b[1;34m'/home/ubuntu/data/cd_covers/'\u001b[0m\u001b[1;33m]\u001b[0m\u001b[1;33m\u001b[0m\u001b[0m\n\u001b[1;32m----> 4\u001b[1;33m \u001b[0mextractor\u001b[0m \u001b[1;33m=\u001b[0m \u001b[0mSimpleFeatureExtractor\u001b[0m\u001b[1;33m(\u001b[0m \u001b[0mfolder_list\u001b[0m \u001b[1;33m=\u001b[0m \u001b[0mfolders\u001b[0m\u001b[1;33m,\u001b[0m \u001b[0mmodel_name\u001b[0m \u001b[1;33m=\u001b[0m \u001b[0mmodel\u001b[0m\u001b[1;33m,\u001b[0m \u001b[0mlayer_name\u001b[0m \u001b[1;33m=\u001b[0m \u001b[0mlayer\u001b[0m\u001b[1;33m)\u001b[0m\u001b[1;33m\u001b[0m\u001b[0m\n\u001b[0m\u001b[0;32m      5\u001b[0m \u001b[0mpost\u001b[0m \u001b[1;33m=\u001b[0m \u001b[0mextractor\u001b[0m\u001b[1;33m.\u001b[0m\u001b[0msave_features\u001b[0m\u001b[1;33m(\u001b[0m\u001b[1;33m)\u001b[0m\u001b[1;33m\u001b[0m\u001b[0m\n",
      "\u001b[1;32m/home/payam/workspace/master_project/temp/SimpleFeatureExtractor.py\u001b[0m in \u001b[0;36m__init__\u001b[1;34m(self, dataset_path, folder_list, model_name, layer_name, caffe_root, mode)\u001b[0m\n\u001b[0;32m     10\u001b[0m     def __init__(self, dataset_path = None, folder_list = None, model_name = 'bvlc_reference_caffenet',\n\u001b[0;32m     11\u001b[0m                  layer_name = 'fc8', caffe_root = '/home/ubuntu/caffe/', mode='gpu'):\n\u001b[1;32m---> 12\u001b[1;33m         \u001b[0mAbstractFeatureExtractor\u001b[0m\u001b[1;33m.\u001b[0m\u001b[0m__init__\u001b[0m\u001b[1;33m(\u001b[0m\u001b[0mself\u001b[0m\u001b[1;33m,\u001b[0m \u001b[0mdataset_path\u001b[0m\u001b[1;33m,\u001b[0m \u001b[0mfolder_list\u001b[0m\u001b[1;33m)\u001b[0m\u001b[1;33m\u001b[0m\u001b[0m\n\u001b[0m\u001b[0;32m     13\u001b[0m         \u001b[0mself\u001b[0m\u001b[1;33m.\u001b[0m\u001b[0mmodel_name\u001b[0m \u001b[1;33m=\u001b[0m \u001b[0mmodel_name\u001b[0m\u001b[1;33m\u001b[0m\u001b[0m\n\u001b[0;32m     14\u001b[0m         \u001b[0mself\u001b[0m\u001b[1;33m.\u001b[0m\u001b[0mlayer_name\u001b[0m \u001b[1;33m=\u001b[0m \u001b[0mlayer_name\u001b[0m\u001b[1;33m\u001b[0m\u001b[0m\n",
      "\u001b[1;32m/home/payam/workspace/master_project/temp/AbstractFeatureExtractor.pyc\u001b[0m in \u001b[0;36m__init__\u001b[1;34m(self, dataset_path, folder_list)\u001b[0m\n\u001b[0;32m     11\u001b[0m         \u001b[1;32melse\u001b[0m\u001b[1;33m:\u001b[0m\u001b[1;33m\u001b[0m\u001b[0m\n\u001b[0;32m     12\u001b[0m             \u001b[0mself\u001b[0m\u001b[1;33m.\u001b[0m\u001b[0mfolder_list\u001b[0m \u001b[1;33m=\u001b[0m \u001b[0mfolder_list\u001b[0m\u001b[1;33m\u001b[0m\u001b[0m\n\u001b[1;32m---> 13\u001b[1;33m         \u001b[0mself\u001b[0m\u001b[1;33m.\u001b[0m\u001b[0mfolder_list\u001b[0m \u001b[1;33m=\u001b[0m \u001b[0mself\u001b[0m\u001b[1;33m.\u001b[0m\u001b[0mlist_folders\u001b[0m\u001b[1;33m(\u001b[0m\u001b[0mself\u001b[0m\u001b[1;33m.\u001b[0m\u001b[0mfolder_list\u001b[0m\u001b[1;33m)\u001b[0m\u001b[1;33m\u001b[0m\u001b[0m\n\u001b[0m\u001b[0;32m     14\u001b[0m \u001b[1;33m\u001b[0m\u001b[0m\n\u001b[0;32m     15\u001b[0m \u001b[1;33m\u001b[0m\u001b[0m\n",
      "\u001b[1;32m/home/payam/workspace/master_project/temp/AbstractFeatureExtractor.pyc\u001b[0m in \u001b[0;36mlist_folders\u001b[1;34m(self, folder_list)\u001b[0m\n\u001b[0;32m     25\u001b[0m         \u001b[0mres\u001b[0m \u001b[1;33m=\u001b[0m \u001b[1;33m{\u001b[0m\u001b[1;33m}\u001b[0m\u001b[1;33m\u001b[0m\u001b[0m\n\u001b[0;32m     26\u001b[0m         \u001b[1;32mfor\u001b[0m \u001b[0mf\u001b[0m \u001b[1;32min\u001b[0m \u001b[0mfolder_list\u001b[0m\u001b[1;33m:\u001b[0m\u001b[1;33m\u001b[0m\u001b[0m\n\u001b[1;32m---> 27\u001b[1;33m             \u001b[0mres\u001b[0m\u001b[1;33m[\u001b[0m\u001b[0mf\u001b[0m\u001b[1;33m]\u001b[0m \u001b[1;33m=\u001b[0m \u001b[0mself\u001b[0m\u001b[1;33m.\u001b[0m\u001b[0mlist_subfolders\u001b[0m\u001b[1;33m(\u001b[0m\u001b[0mf\u001b[0m\u001b[1;33m)\u001b[0m\u001b[1;33m\u001b[0m\u001b[0m\n\u001b[0m\u001b[0;32m     28\u001b[0m         \u001b[1;32mreturn\u001b[0m \u001b[0mres\u001b[0m\u001b[1;33m\u001b[0m\u001b[0m\n\u001b[0;32m     29\u001b[0m \u001b[1;33m\u001b[0m\u001b[0m\n",
      "\u001b[1;32m/home/payam/workspace/master_project/temp/AbstractFeatureExtractor.pyc\u001b[0m in \u001b[0;36mlist_subfolders\u001b[1;34m(self, folder_name)\u001b[0m\n\u001b[0;32m     36\u001b[0m         \"\"\"\n\u001b[0;32m     37\u001b[0m         \u001b[0msubfolder_list\u001b[0m \u001b[1;33m=\u001b[0m \u001b[1;33m[\u001b[0m\u001b[1;33m]\u001b[0m\u001b[1;33m\u001b[0m\u001b[0m\n\u001b[1;32m---> 38\u001b[1;33m         \u001b[1;32mfor\u001b[0m \u001b[0mf\u001b[0m \u001b[1;32min\u001b[0m \u001b[0mos\u001b[0m\u001b[1;33m.\u001b[0m\u001b[0mlistdir\u001b[0m\u001b[1;33m(\u001b[0m\u001b[0mfolder_name\u001b[0m\u001b[1;33m)\u001b[0m\u001b[1;33m:\u001b[0m\u001b[1;33m\u001b[0m\u001b[0m\n\u001b[0m\u001b[0;32m     39\u001b[0m             \u001b[1;32mif\u001b[0m \u001b[0mos\u001b[0m\u001b[1;33m.\u001b[0m\u001b[0mpath\u001b[0m\u001b[1;33m.\u001b[0m\u001b[0misdir\u001b[0m\u001b[1;33m(\u001b[0m\u001b[0mfolder_name\u001b[0m \u001b[1;33m+\u001b[0m \u001b[0mf\u001b[0m\u001b[1;33m)\u001b[0m \u001b[1;32mand\u001b[0m \u001b[0mf\u001b[0m \u001b[1;33m!=\u001b[0m \u001b[1;34m'Reference'\u001b[0m\u001b[1;33m:\u001b[0m\u001b[1;33m\u001b[0m\u001b[0m\n\u001b[0;32m     40\u001b[0m                 \u001b[0msubfolder_list\u001b[0m\u001b[1;33m.\u001b[0m\u001b[0mappend\u001b[0m\u001b[1;33m(\u001b[0m\u001b[0mfolder_name\u001b[0m \u001b[1;33m+\u001b[0m \u001b[0mf\u001b[0m \u001b[1;33m+\u001b[0m \u001b[1;34m'/'\u001b[0m\u001b[1;33m)\u001b[0m\u001b[1;33m\u001b[0m\u001b[0m\n",
      "\u001b[1;31mOSError\u001b[0m: [Errno 2] No such file or directory: '/home/ubuntu/data/cd_covers/'"
=======
     "name": "stdout",
     "output_type": "stream",
     "text": [
      "cd_covers:\n",
      "\n",
      "\tReference\n",
      "\n"
>>>>>>> 982f5d8a37f186fe422f58e5540840969aabe541
     ]
    }
   ],
   "source": [
<<<<<<< HEAD
    "model = 'vgg_face_cafe'\n",
    "layer = 'fc8'\n",
    "folders = ['/home/ubuntu/data/cd_covers/']\n",
    "extractor = SimpleFeatureExtractor( folder_list = folders, model_name = model, layer_name = layer)\n",
    "post = extractor.save_features()"
=======
    "model = 'vgg_face_caffe'\n",
    "layer = 'fc8'\n",
    "folders = ['/home/ubuntu/data/cd_covers/']\n",
    "extractor = SimpleFeatureExtractor( folder_list = folders, model_name = model, layer_name = layer)\n",
    "%time post = extractor.save_features()"
>>>>>>> 982f5d8a37f186fe422f58e5540840969aabe541
   ]
  },
  {
   "cell_type": "code",
   "execution_count": null,
   "metadata": {
    "collapsed": true
   },
   "outputs": [],
   "source": []
  }
 ],
 "metadata": {
  "kernelspec": {
<<<<<<< HEAD
   "display_name": "Python [Root]",
   "language": "python",
   "name": "Python [Root]"
=======
   "display_name": "Python 2",
   "language": "python",
   "name": "python2"
>>>>>>> 982f5d8a37f186fe422f58e5540840969aabe541
  },
  "language_info": {
   "codemirror_mode": {
    "name": "ipython",
    "version": 2
   },
   "file_extension": ".py",
   "mimetype": "text/x-python",
   "name": "python",
   "nbconvert_exporter": "python",
   "pygments_lexer": "ipython2",
<<<<<<< HEAD
   "version": "2.7.11"
=======
   "version": "2.7.6"
>>>>>>> 982f5d8a37f186fe422f58e5540840969aabe541
  }
 },
 "nbformat": 4,
 "nbformat_minor": 0
}
