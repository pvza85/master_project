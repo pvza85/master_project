{
 "cells": [
  {
   "cell_type": "code",
   "execution_count": 1,
   "metadata": {
    "collapsed": true
   },
   "outputs": [],
   "source": [
    "import os\n",
    "import numpy as np\n",
    "from scipy.stats.stats import pearsonr\n",
    "\n",
    "def calculate_accuracy(ref, test):\n",
    "    count_pear = 0\n",
    "    for i in range(0,len(test)):\n",
    "        max_pear = 0.0\n",
    "        max_pear_index = -1\n",
    "        for j in range(0,len(ref)):\n",
    "            pear = abs(pearsonr(ref[j], test[i])[0])\n",
    "            if pear > max_pear:\n",
    "                max_pear_index = j\n",
    "                max_pear = pear\n",
    "        if i == max_pear_index:\n",
    "            count_pear += 1\n",
    "    return count_pear"
   ]
  },
  {
   "cell_type": "code",
   "execution_count": 4,
   "metadata": {
    "collapsed": false
   },
   "outputs": [
    {
     "name": "stdout",
     "output_type": "stream",
     "text": [
      "/home/payam/dataset/stanford_mobile_images/print/Palm/\n",
      "/home/payam/dataset/stanford_mobile_images/print/Droid/\n",
      "/home/payam/dataset/stanford_mobile_images/print/Canon/\n",
      "/home/payam/dataset/stanford_mobile_images/print/Reference/\n",
      "/home/payam/dataset/stanford_mobile_images/print/E63/\n",
      "/home/payam/dataset/stanford_mobile_images/business_cards/Palm/\n",
      "/home/payam/dataset/stanford_mobile_images/business_cards/Droid/\n",
      "/home/payam/dataset/stanford_mobile_images/business_cards/Canon/\n",
      "/home/payam/dataset/stanford_mobile_images/business_cards/Reference/\n",
      "/home/payam/dataset/stanford_mobile_images/business_cards/E63/\n",
      "/home/payam/dataset/stanford_mobile_images/cd_covers/Palm/\n",
      "/home/payam/dataset/stanford_mobile_images/cd_covers/Droid/\n",
      "/home/payam/dataset/stanford_mobile_images/cd_covers/Canon/\n",
      "/home/payam/dataset/stanford_mobile_images/cd_covers/Reference/\n",
      "/home/payam/dataset/stanford_mobile_images/cd_covers/E63/\n",
      "/home/payam/dataset/stanford_mobile_images/landmarks/Reference/\n",
      "/home/payam/dataset/stanford_mobile_images/landmarks/Query/\n",
      "/home/payam/dataset/stanford_mobile_images/dvd_covers/Palm/\n",
      "/home/payam/dataset/stanford_mobile_images/dvd_covers/Droid/\n",
      "/home/payam/dataset/stanford_mobile_images/dvd_covers/Canon/\n",
      "/home/payam/dataset/stanford_mobile_images/dvd_covers/Reference/\n",
      "/home/payam/dataset/stanford_mobile_images/dvd_covers/E63/\n",
      "/home/payam/dataset/stanford_mobile_images/museum_paintings/Palm/\n",
      "/home/payam/dataset/stanford_mobile_images/museum_paintings/Droid/\n",
      "/home/payam/dataset/stanford_mobile_images/museum_paintings/Canon/\n",
      "/home/payam/dataset/stanford_mobile_images/museum_paintings/Reference/\n",
      "/home/payam/dataset/stanford_mobile_images/museum_paintings/E63/\n",
      "/home/payam/dataset/stanford_mobile_images/book_covers/5800/\n",
      "/home/payam/dataset/stanford_mobile_images/book_covers/Droid/\n",
      "/home/payam/dataset/stanford_mobile_images/book_covers/iPhone/\n",
      "/home/payam/dataset/stanford_mobile_images/book_covers/Canon/\n",
      "/home/payam/dataset/stanford_mobile_images/book_covers/Reference/\n"
     ]
    }
   ],
   "source": [
    "directory = '/home/payam/dataset/stanford_mobile_images/'\n",
    "for f in os.listdir(directory):\n",
    "    if os.path.isdir(directory + f):\n",
    "        in_dir = directory + f + '/'\n",
    "        for ff in os.listdir(in_dir):\n",
    "            if os.path.isdir(in_dir + ff):\n",
    "                print in_dir + ff + '/'"
   ]
  },
  {
   "cell_type": "markdown",
   "metadata": {},
   "source": [
    "## 01 - First Resutls\n",
    "Separate networks"
   ]
  },
  {
   "cell_type": "code",
   "execution_count": 5,
   "metadata": {
    "collapsed": false
   },
   "outputs": [
    {
     "ename": "IOError",
     "evalue": "[Errno 2] No such file or directory: '/home/payam/dataset/stanford_mobile_images/print/Reference/caffenet_features.txt'",
     "output_type": "error",
     "traceback": [
      "\u001b[1;31m---------------------------------------------------------------------------\u001b[0m",
      "\u001b[1;31mIOError\u001b[0m                                   Traceback (most recent call last)",
      "\u001b[1;32m<ipython-input-5-5c441edc4ff3>\u001b[0m in \u001b[0;36m<module>\u001b[1;34m()\u001b[0m\n\u001b[0;32m      5\u001b[0m     \u001b[1;32mif\u001b[0m \u001b[0mos\u001b[0m\u001b[1;33m.\u001b[0m\u001b[0mpath\u001b[0m\u001b[1;33m.\u001b[0m\u001b[0misdir\u001b[0m\u001b[1;33m(\u001b[0m\u001b[0mdirectory\u001b[0m \u001b[1;33m+\u001b[0m \u001b[0mf\u001b[0m\u001b[1;33m)\u001b[0m\u001b[1;33m:\u001b[0m\u001b[1;33m\u001b[0m\u001b[0m\n\u001b[0;32m      6\u001b[0m         \u001b[0min_dir\u001b[0m \u001b[1;33m=\u001b[0m \u001b[0mdirectory\u001b[0m \u001b[1;33m+\u001b[0m \u001b[0mf\u001b[0m \u001b[1;33m+\u001b[0m \u001b[1;34m'/'\u001b[0m\u001b[1;33m\u001b[0m\u001b[0m\n\u001b[1;32m----> 7\u001b[1;33m         \u001b[0mref_caffe\u001b[0m \u001b[1;33m=\u001b[0m \u001b[0mnp\u001b[0m\u001b[1;33m.\u001b[0m\u001b[0mloadtxt\u001b[0m\u001b[1;33m(\u001b[0m\u001b[0min_dir\u001b[0m \u001b[1;33m+\u001b[0m \u001b[1;34m'Reference/caffenet_features.txt'\u001b[0m\u001b[1;33m)\u001b[0m\u001b[1;33m\u001b[0m\u001b[0m\n\u001b[0m\u001b[0;32m      8\u001b[0m         \u001b[1;32mprint\u001b[0m \u001b[0mlen\u001b[0m\u001b[1;33m(\u001b[0m\u001b[0mref_caffe\u001b[0m\u001b[1;33m)\u001b[0m\u001b[1;33m\u001b[0m\u001b[0m\n",
      "\u001b[1;32m/root/anaconda2/lib/python2.7/site-packages/numpy/lib/npyio.pyc\u001b[0m in \u001b[0;36mloadtxt\u001b[1;34m(fname, dtype, comments, delimiter, converters, skiprows, usecols, unpack, ndmin)\u001b[0m\n\u001b[0;32m    801\u001b[0m                 \u001b[0mfh\u001b[0m \u001b[1;33m=\u001b[0m \u001b[0miter\u001b[0m\u001b[1;33m(\u001b[0m\u001b[0mbz2\u001b[0m\u001b[1;33m.\u001b[0m\u001b[0mBZ2File\u001b[0m\u001b[1;33m(\u001b[0m\u001b[0mfname\u001b[0m\u001b[1;33m)\u001b[0m\u001b[1;33m)\u001b[0m\u001b[1;33m\u001b[0m\u001b[0m\n\u001b[0;32m    802\u001b[0m             \u001b[1;32melif\u001b[0m \u001b[0msys\u001b[0m\u001b[1;33m.\u001b[0m\u001b[0mversion_info\u001b[0m\u001b[1;33m[\u001b[0m\u001b[1;36m0\u001b[0m\u001b[1;33m]\u001b[0m \u001b[1;33m==\u001b[0m \u001b[1;36m2\u001b[0m\u001b[1;33m:\u001b[0m\u001b[1;33m\u001b[0m\u001b[0m\n\u001b[1;32m--> 803\u001b[1;33m                 \u001b[0mfh\u001b[0m \u001b[1;33m=\u001b[0m \u001b[0miter\u001b[0m\u001b[1;33m(\u001b[0m\u001b[0mopen\u001b[0m\u001b[1;33m(\u001b[0m\u001b[0mfname\u001b[0m\u001b[1;33m,\u001b[0m \u001b[1;34m'U'\u001b[0m\u001b[1;33m)\u001b[0m\u001b[1;33m)\u001b[0m\u001b[1;33m\u001b[0m\u001b[0m\n\u001b[0m\u001b[0;32m    804\u001b[0m             \u001b[1;32melse\u001b[0m\u001b[1;33m:\u001b[0m\u001b[1;33m\u001b[0m\u001b[0m\n\u001b[0;32m    805\u001b[0m                 \u001b[0mfh\u001b[0m \u001b[1;33m=\u001b[0m \u001b[0miter\u001b[0m\u001b[1;33m(\u001b[0m\u001b[0mopen\u001b[0m\u001b[1;33m(\u001b[0m\u001b[0mfname\u001b[0m\u001b[1;33m)\u001b[0m\u001b[1;33m)\u001b[0m\u001b[1;33m\u001b[0m\u001b[0m\n",
      "\u001b[1;31mIOError\u001b[0m: [Errno 2] No such file or directory: '/home/payam/dataset/stanford_mobile_images/print/Reference/caffenet_features.txt'"
     ]
    }
   ],
   "source": [
    "directory = '/home/payam/dataset/stanford_mobile_images/'\n",
    "caffe_accuracy = {}\n",
    "google_accuracy = {}\n",
    "for f in os.listdir(directory):\n",
    "    if os.path.isdir(directory + f):\n",
    "        in_dir = directory + f + '/'\n",
    "        ref_caffe = np.loadtxt(in_dir + 'Reference/caffenet_features.txt')\n",
    "        print len(ref_caffe)"
   ]
  },
  {
   "cell_type": "code",
   "execution_count": 16,
   "metadata": {
    "collapsed": false
   },
   "outputs": [
    {
     "data": {
      "text/plain": [
       "numpy.ndarray"
      ]
     },
     "execution_count": 16,
     "metadata": {},
     "output_type": "execute_result"
    }
   ],
   "source": [
    "type(ref_caffe)"
   ]
  },
  {
   "cell_type": "code",
   "execution_count": 17,
   "metadata": {
    "collapsed": false
   },
   "outputs": [
    {
     "data": {
      "text/plain": [
       "(100, 10000)"
      ]
     },
     "execution_count": 17,
     "metadata": {},
     "output_type": "execute_result"
    }
   ],
   "source": [
    "ref_caffe.shape"
   ]
  },
  {
   "cell_type": "code",
   "execution_count": null,
   "metadata": {
    "collapsed": true
   },
   "outputs": [],
   "source": []
  },
  {
   "cell_type": "code",
   "execution_count": 18,
   "metadata": {
    "collapsed": false
   },
   "outputs": [],
   "source": [
    "directory = '/home/payam/dataset/'\n",
    "caffe_accuracy = {}\n",
    "google_accuracy = {}\n",
    "for f in os.listdir(directory):\n",
    "    if os.path.isdir(directory + f):\n",
    "        in_dir = directory + f + '/'\n",
    "        ref_caffe = np.loadtxt(in_dir + 'Reference/caffenet_features.txt')\n",
    "        ref_google = np.loadtxt(in_dir + 'Reference/googlenet_features.txt')\n",
    "        res_caffe = {}\n",
    "        res_google = {}\n",
    "        for ff in os.listdir(in_dir):\n",
    "            if os.path.isdir(in_dir + ff) and ff != 'Reference':\n",
    "                test_caffe = np.loadtxt(in_dir + ff + '/caffenet_features.txt')\n",
    "                test_google = np.loadtxt(in_dir + ff + '/googlenet_features.txt')\n",
    "                res_caffe[ff] = calculate_accuracy(ref_caffe, test_caffe)\n",
    "                res_google[ff] = calculate_accuracy(ref_google, test_google)\n",
    "        caffe_accuracy[f] = res_caffe\n",
    "        google_accuracy[f] = res_google"
   ]
  },
  {
   "cell_type": "code",
   "execution_count": 5,
   "metadata": {
    "collapsed": false
   },
   "outputs": [
    {
     "data": {
      "text/plain": [
       "{'book_covers': {'5800': 18, 'Canon': 22, 'Droid': 28, 'iPhone': 27},\n",
       " 'cd_covers': {'Canon': 18, 'Droid': 41, 'E63': 23, 'Palm': 21},\n",
       " 'dvd_covers': {'Canon': 32, 'Droid': 29, 'E63': 7, 'Palm': 7},\n",
       " 'museum_paintings': {'Canon': 19, 'Droid': 23, 'E63': 20, 'Palm': 18}}"
      ]
     },
     "execution_count": 5,
     "metadata": {},
     "output_type": "execute_result"
    }
   ],
   "source": [
    "caffe_accuracy"
   ]
  },
  {
   "cell_type": "code",
   "execution_count": 19,
   "metadata": {
    "collapsed": false
   },
   "outputs": [
    {
     "data": {
      "text/plain": [
       "{'book_covers': {'5800': 18, 'Canon': 22, 'Droid': 28, 'iPhone': 27},\n",
       " 'cd_covers': {'Canon': 18, 'Droid': 41, 'E63': 23, 'Palm': 21},\n",
       " 'dvd_covers': {'Canon': 32, 'Droid': 32, 'E63': 7, 'Palm': 7},\n",
       " 'museum_paintings': {'Canon': 19, 'Droid': 24, 'E63': 20, 'Palm': 18}}"
      ]
     },
     "execution_count": 19,
     "metadata": {},
     "output_type": "execute_result"
    }
   ],
   "source": [
    "caffe_accuracy"
   ]
  },
  {
   "cell_type": "code",
   "execution_count": 6,
   "metadata": {
    "collapsed": false
   },
   "outputs": [
    {
     "data": {
      "text/plain": [
       "{'book_covers': {'5800': 28, 'Canon': 32, 'Droid': 33, 'iPhone': 41},\n",
       " 'cd_covers': {'Canon': 31, 'Droid': 63, 'E63': 37, 'Palm': 34},\n",
       " 'dvd_covers': {'Canon': 36, 'Droid': 30, 'E63': 14, 'Palm': 9},\n",
       " 'museum_paintings': {'Canon': 28, 'Droid': 35, 'E63': 30, 'Palm': 25}}"
      ]
     },
     "execution_count": 6,
     "metadata": {},
     "output_type": "execute_result"
    }
   ],
   "source": [
    "google_accuracy"
   ]
  },
  {
   "cell_type": "code",
   "execution_count": 20,
   "metadata": {
    "collapsed": false
   },
   "outputs": [
    {
     "data": {
      "text/plain": [
       "{'book_covers': {'5800': 20, 'Canon': 20, 'Droid': 22, 'iPhone': 31},\n",
       " 'cd_covers': {'Canon': 18, 'Droid': 45, 'E63': 27, 'Palm': 18},\n",
       " 'dvd_covers': {'Canon': 24, 'Droid': 29, 'E63': 7, 'Palm': 4},\n",
       " 'museum_paintings': {'Canon': 29, 'Droid': 32, 'E63': 25, 'Palm': 25}}"
      ]
     },
     "execution_count": 20,
     "metadata": {},
     "output_type": "execute_result"
    }
   ],
   "source": [
    "google_accuracy"
   ]
  },
  {
   "cell_type": "markdown",
   "metadata": {},
   "source": [
    "## Cosine Distance"
   ]
  },
  {
   "cell_type": "code",
   "execution_count": null,
   "metadata": {
    "collapsed": true
   },
   "outputs": [],
   "source": [
    "from sklearn.metrics.pairwise import cosine_similarity\n",
    "def cosine_accuracy(ref, test):\n",
    "    count_pear = 0\n",
    "    for i in range(0,len(test)):\n",
    "        max_pear = 0.0\n",
    "        max_pear_index = -1\n",
    "        for j in range(0,len(ref)):\n",
    "            pear = abs(cosine_similarity(ref[j], test[i])[0])\n",
    "            if pear > max_pear:\n",
    "                max_pear_index = j\n",
    "                max_pear = pear\n",
    "        if i == max_pear_index:\n",
    "            count_pear += 1\n",
    "    return count_pear"
   ]
  },
  {
   "cell_type": "code",
   "execution_count": null,
   "metadata": {
    "collapsed": true
   },
   "outputs": [],
   "source": [
    "directory = '/home/payam/dataset/'\n",
    "caffe_accuracy = {}\n",
    "google_accuracy = {}\n",
    "for f in os.listdir(directory):\n",
    "    if os.path.isdir(directory + f):\n",
    "        in_dir = directory + f + '/'\n",
    "        ref_caffe = np.loadtxt(in_dir + 'Reference/caffenet_features.txt')\n",
    "        ref_google = np.loadtxt(in_dir + 'Reference/googlenet_features.txt')\n",
    "        res_caffe = {}\n",
    "        res_google = {}\n",
    "        for ff in os.listdir(in_dir):\n",
    "            if os.path.isdir(in_dir + ff) and ff != 'Reference':\n",
    "                test_caffe = np.loadtxt(in_dir + ff + '/caffenet_features.txt')\n",
    "                test_google = np.loadtxt(in_dir + ff + '/googlenet_features.txt')\n",
    "                res_caffe[ff] = calculate_accuracy(ref_caffe, test_caffe)\n",
    "                res_google[ff] = calculate_accuracy(ref_google, test_google)\n",
    "        caffe_accuracy[f] = res_caffe\n",
    "        google_accuracy[f] = res_google"
   ]
  },
  {
   "cell_type": "markdown",
   "metadata": {},
   "source": [
    "## 02 - Combined Results\n",
    "combine googlenet and caffenet features."
   ]
  },
  {
   "cell_type": "code",
   "execution_count": 16,
   "metadata": {
    "collapsed": false
   },
   "outputs": [],
   "source": [
    "directory = '/home/payam/dataset/'\n",
    "accuracy = {}\n",
    "for f in os.listdir(directory):\n",
    "    if os.path.isdir(directory + f):\n",
    "        in_dir = directory + f + '/'\n",
    "        ref_caffe = np.loadtxt(in_dir + 'Reference/caffenet_features.txt')\n",
    "        ref_google = np.loadtxt(in_dir + 'Reference/googlenet_features.txt')\n",
    "        ref = np.concatenate((ref_caffe, ref_google),axis=1)\n",
    "        res = {}\n",
    "        for ff in os.listdir(in_dir):\n",
    "            if os.path.isdir(in_dir + ff) and ff != 'Reference':\n",
    "                test_caffe = np.loadtxt(in_dir + ff + '/caffenet_features.txt')\n",
    "                test_google = np.loadtxt(in_dir + ff + '/googlenet_features.txt')\n",
    "                test = np.concatenate((test_caffe, test_google), axis=1)\n",
    "                res[ff] = calculate_accuracy(ref, test)\n",
    "        accuracy[f] = res"
   ]
  },
  {
   "cell_type": "code",
   "execution_count": 18,
   "metadata": {
    "collapsed": false
   },
   "outputs": [
    {
     "data": {
      "text/plain": [
       "{'book_covers': {'5800': 24, 'Canon': 24, 'Droid': 30, 'iPhone': 33},\n",
       " 'cd_covers': {'Canon': 19, 'Droid': 47, 'E63': 26, 'Palm': 26},\n",
       " 'dvd_covers': {'Canon': 36, 'Droid': 34, 'E63': 8, 'Palm': 5},\n",
       " 'museum_paintings': {'Canon': 20, 'Droid': 26, 'E63': 23, 'Palm': 19}}"
      ]
     },
     "execution_count": 18,
     "metadata": {},
     "output_type": "execute_result"
    }
   ],
   "source": [
    "accuracy"
   ]
  },
  {
   "cell_type": "markdown",
   "metadata": {},
   "source": [
    "### The results was worth than calculating separately, so this experiment to combine features is closed."
   ]
  },
  {
   "cell_type": "markdown",
   "metadata": {},
   "source": [
    "## 03 - Combining Estimation Methods\n",
    "I will caclulate Eucleadian Distance, Correlation and Pearson Correlation and then combine result of them. But First for combining I need to find more than best, so I will calculate fitness for each instance and put them into a list then sort it and pick 3 or any number I wish. Then I will caclulate the possiblity of being among first 3 (or any other number) and then try to combine these resutls."
   ]
  },
  {
   "cell_type": "code",
   "execution_count": 96,
   "metadata": {
    "collapsed": false
   },
   "outputs": [],
   "source": [
    "import operator\n",
    "\n",
    "def calculate_accuracy0(ref, test):\n",
    "    pear = {}\n",
    "    corr = {}\n",
    "    dist = {}\n",
    "    for i in range(0,len(test)):\n",
    "        p = {}\n",
    "        c = {}\n",
    "        d = {}\n",
    "        for j in range(0,len(ref)):\n",
    "            p[j] = abs(pearsonr(ref[j], test[i])[0])\n",
    "            c[j] = np.correlate(ref[i], test[j])\n",
    "            d[j] = np.linalg.norm(ref[i] - test[j])\n",
    "        pear[i] = sorted(p.items(), key=operator.itemgetter(1), reverse = True)\n",
    "        corr[i] = sorted(c.items(), key=operator.itemgetter(1), reverse = True)\n",
    "        dist[i] = sorted(d.items(), key=operator.itemgetter(1))\n",
    "    return [pear, corr, dist]"
   ]
  },
  {
   "cell_type": "code",
   "execution_count": 97,
   "metadata": {
    "collapsed": false
   },
   "outputs": [],
   "source": [
    "directory = '/home/payam/dataset/book_covers/'\n",
    "ref = np.loadtxt(directory + 'Reference/googlenet_features.txt')\n",
    "test = np.loadtxt(directory + 'Canon/googlenet_features.txt')"
   ]
  },
  {
   "cell_type": "code",
   "execution_count": 98,
   "metadata": {
    "collapsed": true
   },
   "outputs": [],
   "source": [
    "[pear, corr, dist] = calculate_accuracy(ref, test)"
   ]
  },
  {
   "cell_type": "code",
   "execution_count": 100,
   "metadata": {
    "collapsed": false
   },
   "outputs": [],
   "source": [
    "def accuracy_window(pear, corr, dist, window):\n",
    "    corrects = 0\n",
    "    for i in range(0,len(pear)):\n",
    "        res = np.zeros(len(pear))\n",
    "        p = pear[i]\n",
    "        c = corr[i]\n",
    "        d = dist[i]\n",
    "        weight = window\n",
    "        for j in range(0,window):\n",
    "            (pi, v) = p[j]\n",
    "            (ci, v) = c[j]\n",
    "            (di, v) = d[j]\n",
    "            res[pi] += weight * 44\n",
    "            res[ci] += weight * 24\n",
    "            res[di] += weight * 33\n",
    "            weight -= 1\n",
    "        if np.argmax(res) == i:\n",
    "            corrects += 1\n",
    "    return corrects"
   ]
  },
  {
   "cell_type": "code",
   "execution_count": 101,
   "metadata": {
    "collapsed": false
   },
   "outputs": [
    {
     "name": "stdout",
     "output_type": "stream",
     "text": [
      "40\n"
     ]
    }
   ],
   "source": [
    "window = 5\n",
    "print accuracy_window(pear, corr, dist, window)"
   ]
  },
  {
   "cell_type": "markdown",
   "metadata": {},
   "source": [
    "### Now calculate resutls\n",
    "then I need to generalize it and extract hyper-parameters."
   ]
  },
  {
   "cell_type": "code",
   "execution_count": 116,
   "metadata": {
    "collapsed": true
   },
   "outputs": [],
   "source": [
    "def calculate_accuracy02(ref, test):\n",
    "    [pear, corr, dist] = calculate_accuracy0(ref, test)\n",
    "    return accuracy_window(pear, corr, dist, 15)"
   ]
  },
  {
   "cell_type": "code",
   "execution_count": 117,
   "metadata": {
    "collapsed": false
   },
   "outputs": [],
   "source": [
    "directory = '/home/payam/dataset/'\n",
    "accuracy = {}\n",
    "for f in os.listdir(directory):\n",
    "    if os.path.isdir(directory + f):\n",
    "        in_dir = directory + f + '/'\n",
    "        ref = np.loadtxt(in_dir + 'Reference/googlenet_features.txt')\n",
    "        res = {}\n",
    "        for ff in os.listdir(in_dir):\n",
    "            if os.path.isdir(in_dir + ff) and ff != 'Reference':\n",
    "                test = np.loadtxt(in_dir + ff + '/googlenet_features.txt')\n",
    "                res[ff] = calculate_accuracy02(ref, test)\n",
    "        accuracy[f] = res"
   ]
  },
  {
   "cell_type": "code",
   "execution_count": 118,
   "metadata": {
    "collapsed": false
   },
   "outputs": [
    {
     "data": {
      "text/plain": [
       "{'book_covers': {'5800': 42, 'Canon': 42, 'Droid': 40, 'iPhone': 53},\n",
       " 'cd_covers': {'Canon': 38, 'Droid': 67, 'E63': 46, 'Palm': 44},\n",
       " 'dvd_covers': {'Canon': 42, 'Droid': 40, 'E63': 19, 'Palm': 16},\n",
       " 'museum_paintings': {'Canon': 38, 'Droid': 41, 'E63': 41, 'Palm': 31}}"
      ]
     },
     "execution_count": 118,
     "metadata": {},
     "output_type": "execute_result"
    }
   ],
   "source": [
    "accuracy"
   ]
  },
  {
   "cell_type": "markdown",
   "metadata": {},
   "source": [
    "### window = 10"
   ]
  },
  {
   "cell_type": "code",
   "execution_count": 109,
   "metadata": {
    "collapsed": true
   },
   "outputs": [],
   "source": [
    "def calculate_accuracy02(ref, test):\n",
    "    [pear, corr, dist] = calculate_accuracy0(ref, test)\n",
    "    return accuracy_window(pear, corr, dist, 10)"
   ]
  },
  {
   "cell_type": "code",
   "execution_count": 110,
   "metadata": {
    "collapsed": false
   },
   "outputs": [
    {
     "data": {
      "text/plain": [
       "{'book_covers': {'5800': 38, 'Canon': 42, 'Droid': 40, 'iPhone': 50},\n",
       " 'cd_covers': {'Canon': 39, 'Droid': 68, 'E63': 45, 'Palm': 42},\n",
       " 'dvd_covers': {'Canon': 41, 'Droid': 40, 'E63': 16, 'Palm': 15},\n",
       " 'museum_paintings': {'Canon': 37, 'Droid': 40, 'E63': 38, 'Palm': 30}}"
      ]
     },
     "execution_count": 110,
     "metadata": {},
     "output_type": "execute_result"
    }
   ],
   "source": [
    "directory = '/home/payam/dataset/'\n",
    "accuracy = {}\n",
    "for f in os.listdir(directory):\n",
    "    if os.path.isdir(directory + f):\n",
    "        in_dir = directory + f + '/'\n",
    "        ref = np.loadtxt(in_dir + 'Reference/googlenet_features.txt')\n",
    "        res = {}\n",
    "        for ff in os.listdir(in_dir):\n",
    "            if os.path.isdir(in_dir + ff) and ff != 'Reference':\n",
    "                test = np.loadtxt(in_dir + ff + '/googlenet_features.txt')\n",
    "                res[ff] = calculate_accuracy02(ref, test)\n",
    "        accuracy[f] = res\n",
    "accuracy"
   ]
  },
  {
   "cell_type": "code",
   "execution_count": null,
   "metadata": {
    "collapsed": true
   },
   "outputs": [],
   "source": []
  }
 ],
 "metadata": {
  "kernelspec": {
   "display_name": "Python [Root]",
   "language": "python",
   "name": "Python [Root]"
  },
  "language_info": {
   "codemirror_mode": {
    "name": "ipython",
    "version": 2
   },
   "file_extension": ".py",
   "mimetype": "text/x-python",
   "name": "python",
   "nbconvert_exporter": "python",
   "pygments_lexer": "ipython2",
   "version": "2.7.11"
  }
 },
 "nbformat": 4,
 "nbformat_minor": 0
}
