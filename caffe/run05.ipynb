{
 "cells": [
  {
   "cell_type": "code",
   "execution_count": 1,
   "metadata": {
    "collapsed": false
   },
   "outputs": [],
   "source": [
    "import sys\n",
    "sys.path.insert(0, '/home/payam/workspace/master_project/src/prediction/')\n",
    "sys.path.insert(0, '/home/payam/workspace/master_project/src/feature_extractor/')\n",
    "#from SimpleFeatureExtractor import SimpleFeatureExtractor\n",
    "from EuclideanDistancePredictor import EuclideanDistancePredictor\n",
    "from CombinedDistancePredictor import CombinedDistancePredictor"
   ]
  },
  {
   "cell_type": "code",
   "execution_count": 2,
   "metadata": {
    "collapsed": false
   },
   "outputs": [],
   "source": [
    "#extractor = SimpleFeatureExtractor()\n",
    "#postfix1 = extractor.postfix\n",
    "#print postfix1 \n",
    "#%time extractor.save_features()\n",
    "#folders = ['/home/payam/dataset/stanford_mobile_images/cd_covers/']\n",
    "#extractor = SimpleFeatureExtractor(folder_list = folders, model_name = 'bvlc_googlenet', layer_name = 'pool5/7x7_s1')\n",
    "#postfix2 = extractor.postfix\n",
    "#print postfix2\n",
    "#%time extractor.save_features()\n",
    "#del extractor"
   ]
  },
  {
   "cell_type": "code",
   "execution_count": 6,
   "metadata": {
    "collapsed": true
   },
   "outputs": [],
   "source": [
    "post1 = '__bvlc_reference_caffenetfc80'\n",
    "post2 = '__bvlc_googlenet_pool57x7_s1_0'\n",
    "post3 = ''\n",
    "post4 = ''\n",
    "post5 = ''"
   ]
  },
  {
   "cell_type": "code",
   "execution_count": 4,
   "metadata": {
    "collapsed": true
   },
   "outputs": [],
   "source": [
    "import pandas as pd\n",
    "from pandas import DataFrame\n",
    "import numpy as np"
   ]
  },
  {
   "cell_type": "code",
   "execution_count": 7,
   "metadata": {
    "collapsed": true
   },
   "outputs": [],
   "source": [
    "post = '_vgg_face_caffe_fc8_0'\n",
    "folders = ['/home/payam/dataset/stanford_mobile_images/cd_covers/']\n",
    "predictor = CombinedDistancePredictor(folder_list = folders, feature_file_postfix=post)\n",
    "res = predictor.predict()"
   ]
  },
  {
   "cell_type": "code",
   "execution_count": 8,
   "metadata": {
    "collapsed": false
   },
   "outputs": [
    {
     "data": {
      "text/plain": [
       "{'cd_covers': {'Canon': 11.0, 'Droid': 26.0, 'E63': 23.0, 'Palm': 12.0}}"
      ]
     },
     "execution_count": 8,
     "metadata": {},
     "output_type": "execute_result"
    }
   ],
   "source": [
    "res"
   ]
  },
  {
   "cell_type": "code",
   "execution_count": null,
   "metadata": {
    "collapsed": true
   },
   "outputs": [],
   "source": []
  },
  {
   "cell_type": "code",
   "execution_count": 9,
   "metadata": {
    "collapsed": false
   },
   "outputs": [
    {
     "data": {
      "text/plain": [
       "{'cd_covers': {'Canon': 11.0, 'Droid': 26.0, 'E63': 23.0, 'Palm': 12.0}}"
      ]
     },
     "execution_count": 9,
     "metadata": {},
     "output_type": "execute_result"
    }
   ],
   "source": [
    "post = '_vgg_face_caffe_fc8_0'\n",
    "folders = ['/home/payam/dataset/stanford_mobile_images/cd_covers/']\n",
    "predictor = CombinedDistancePredictor(folder_list = folders, feature_file_postfix=post)\n",
    "res1 = predictor.predict()\n",
    "res1"
   ]
  },
  {
   "cell_type": "code",
   "execution_count": 10,
   "metadata": {
    "collapsed": false
   },
   "outputs": [
    {
     "data": {
      "text/plain": [
       "{'cd_covers': {'Canon': 12.0,\n",
       "  'Droid': 28.999999999999996,\n",
       "  'E63': 23.0,\n",
       "  'Palm': 14.000000000000002}}"
      ]
     },
     "execution_count": 10,
     "metadata": {},
     "output_type": "execute_result"
    }
   ],
   "source": [
    "post = '_vgg_face_caffe_fc7_0'\n",
    "predictor = CombinedDistancePredictor(folder_list = folders, feature_file_postfix=post)\n",
    "res2 = predictor.predict()\n",
    "res2"
   ]
  },
  {
   "cell_type": "code",
   "execution_count": 11,
   "metadata": {
    "collapsed": false
   },
   "outputs": [
    {
     "data": {
      "text/plain": [
       "{'cd_covers': {'Canon': 14.000000000000002,\n",
       "  'Droid': 31.0,\n",
       "  'E63': 23.0,\n",
       "  'Palm': 12.0}}"
      ]
     },
     "execution_count": 11,
     "metadata": {},
     "output_type": "execute_result"
    }
   ],
   "source": [
    "post = '_vgg_face_caffe_fc6_0'\n",
    "predictor = CombinedDistancePredictor(folder_list = folders, feature_file_postfix=post)\n",
    "res3 = predictor.predict()\n",
    "res3"
   ]
  },
  {
   "cell_type": "code",
   "execution_count": null,
   "metadata": {
    "collapsed": true
   },
   "outputs": [],
   "source": [
    "#post = '_vgg_face_caffe_pool1_0'\n",
    "#predictor = CombinedDistancePredictor( feature_file_postfix=post)\n",
    "#res4 = DataFrame(predictor.predict()).replace(np.nan, '-')\n",
    "#res4"
   ]
  },
  {
   "cell_type": "code",
   "execution_count": null,
   "metadata": {
    "collapsed": true
   },
   "outputs": [],
   "source": [
    "#post = '_vgg_face_caffe_pool2_0'\n",
    "#predictor = CombinedDistancePredictor( feature_file_postfix=post)\n",
    "#res5 = DataFrame(predictor.predict()).replace(np.nan, '-')\n",
    "#res5"
   ]
  }
 ],
 "metadata": {
  "kernelspec": {
   "display_name": "Python [Root]",
   "language": "python",
   "name": "Python [Root]"
  },
  "language_info": {
   "codemirror_mode": {
    "name": "ipython",
    "version": 2
   },
   "file_extension": ".py",
   "mimetype": "text/x-python",
   "name": "python",
   "nbconvert_exporter": "python",
   "pygments_lexer": "ipython2",
   "version": "2.7.11"
  }
 },
 "nbformat": 4,
 "nbformat_minor": 0
}
