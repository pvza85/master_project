{
 "cells": [
  {
   "cell_type": "markdown",
   "metadata": {},
   "source": [
    "This will fine tune over googlnet"
   ]
  },
  {
   "cell_type": "code",
   "execution_count": 1,
   "metadata": {
    "collapsed": false
   },
   "outputs": [
    {
     "name": "stdout",
     "output_type": "stream",
     "text": [
      "Model already exists.\r\n"
     ]
    }
   ],
   "source": [
    "import matplotlib \n",
    "matplotlib.use('Pdf')\n",
    "import numpy as np\n",
    "from pylab import *\n",
    "caffe_root = '/home/ubuntu/workspace/caffe/'  \n",
    "import sys\n",
    "sys.path.insert(0, caffe_root + 'python')\n",
    "import caffe\n",
    "caffe.set_device(0)\n",
    "caffe.set_mode_gpu()\n",
    "%matplotlib inline\n",
    "import tempfile\n",
    "\n",
    "import os\n",
    "os.chdir(caffe_root)  # run scripts from caffe root\n",
    "!scripts/download_model_binary.py models/bvlc_googlenet\n",
    "os.chdir('../master_project')\n",
    "\n",
    "import os\n",
    "weights = caffe_root + 'models/bvlc_googlenet/bvlc_googlenet.caffemodel'\n",
    "assert os.path.exists(weights)\n",
    "\n",
    "caffe_model_prototxt = caffe_root + 'models/bvlc_googlenet/deploy.prototxt'\n",
    "caffe_model_trained = caffe_root + 'models/bvlc_googlenet/bvlc_googlenet.caffemodel'\n",
    "dateset_path = '/home/ubuntu/data/stanford_mobile_images/'"
   ]
  },
  {
   "cell_type": "code",
   "execution_count": 3,
   "metadata": {
    "collapsed": true
   },
   "outputs": [],
   "source": []
  },
  {
   "cell_type": "code",
   "execution_count": null,
   "metadata": {
    "collapsed": true
   },
   "outputs": [],
   "source": []
  }
 ],
 "metadata": {
  "kernelspec": {
   "display_name": "Python 2",
   "language": "python",
   "name": "python2"
  },
  "language_info": {
   "codemirror_mode": {
    "name": "ipython",
    "version": 2
   },
   "file_extension": ".py",
   "mimetype": "text/x-python",
   "name": "python",
   "nbconvert_exporter": "python",
   "pygments_lexer": "ipython2",
   "version": "2.7.6"
  }
 },
 "nbformat": 4,
 "nbformat_minor": 0
}
