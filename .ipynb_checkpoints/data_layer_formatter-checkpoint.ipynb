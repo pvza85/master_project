{
 "cells": [
  {
   "cell_type": "markdown",
   "metadata": {},
   "source": [
    "## Data Layer Formatter\n",
    "This codlet will produce files for Caffe Data Layer in the format of text file that contains names of images."
   ]
  },
  {
   "cell_type": "code",
   "execution_count": 62,
   "metadata": {
    "collapsed": false
   },
   "outputs": [],
   "source": [
    "aws = False\n",
    "\n",
    "import os\n",
    "import random\n",
    "from datetime import datetime\n",
    "if aws:\n",
    "    dataset = '/home/ubuntu/dataset/stanford_mobile_images/'\n",
    "else:\n",
    "    dataset = '/home/payam/dataset/stanford_mobile_images/'\n",
    "\n",
    "def data_layer_formatter(folder, threshold = 0):\n",
    "    folder = dataset + folder\n",
    "    train = '{0}/train{1}.txt'.format(folder, str(threshold).zfill(3))\n",
    "    test = '{0}/test.txt'.format(folder)\n",
    "    \n",
    "    if os.path.isfile(train):\n",
    "        os.remove(train)\n",
    "    if os.path.isfile(test):\n",
    "        os.remove(test)\n",
    "\n",
    "    test_counter = 0\n",
    "    train_counter = 0\n",
    "    random.seed(datetime.now)\n",
    "    \n",
    "    for subfolder in os.listdir(folder):\n",
    "        with open(train, 'a') as out_train:\n",
    "            with open(test, 'a') as out_test:\n",
    "                if os.path.isdir(folder + '/' + subfolder):\n",
    "                    for f in os.listdir(folder + '/' + subfolder):\n",
    "                        if os.path.isfile(folder + '/' + subfolder + '/' + f) and f.endswith('.jpg'):\n",
    "                            if subfolder != 'Reference':\n",
    "                                out_test.write('{0}/{1} {1}\\n'.format(subfolder, f))\n",
    "                                #in the format of: /path/to/file/0xx.jpg 0xx.jpg(class)\n",
    "                                test_counter += 1\n",
    "                                if random.random() * 100 < threshold :\n",
    "                                    out_train.write('{0}/{1} {1}\\n'.format(subfolder, f))\n",
    "                            else:\n",
    "                                out_train.write('{0}/{1} {1}\\n'.format(subfolder, f))\n",
    "                                train_counter += 1\n",
    "    return [train, train_counter, test, test_counter]"
   ]
  },
  {
   "cell_type": "code",
   "execution_count": 66,
   "metadata": {
    "collapsed": false
   },
   "outputs": [
    {
     "name": "stdout",
     "output_type": "stream",
     "text": [
      "['/home/payam/dataset/stanford_mobile_images/print/train000.txt', 100, '/home/payam/dataset/stanford_mobile_images/print/test.txt', 400]\n",
      "['/home/payam/dataset/stanford_mobile_images/business_cards/train000.txt', 100, '/home/payam/dataset/stanford_mobile_images/business_cards/test.txt', 400]\n",
      "['/home/payam/dataset/stanford_mobile_images/cd_covers/train000.txt', 100, '/home/payam/dataset/stanford_mobile_images/cd_covers/test.txt', 400]\n",
      "['/home/payam/dataset/stanford_mobile_images/landmarks/train000.txt', 501, '/home/payam/dataset/stanford_mobile_images/landmarks/test.txt', 501]\n",
      "['/home/payam/dataset/stanford_mobile_images/dvd_covers/train000.txt', 100, '/home/payam/dataset/stanford_mobile_images/dvd_covers/test.txt', 400]\n",
      "['/home/payam/dataset/stanford_mobile_images/museum_paintings/train000.txt', 91, '/home/payam/dataset/stanford_mobile_images/museum_paintings/test.txt', 364]\n",
      "['/home/payam/dataset/stanford_mobile_images/book_covers/train000.txt', 101, '/home/payam/dataset/stanford_mobile_images/book_covers/test.txt', 404]\n"
     ]
    }
   ],
   "source": [
    "for f in os.listdir(dataset):\n",
    "    if os.path.isdir(dataset + f):\n",
    "        print data_layer_formatter(f, 0)"
   ]
  },
  {
   "cell_type": "code",
   "execution_count": null,
   "metadata": {
    "collapsed": true
   },
   "outputs": [],
   "source": []
  }
 ],
 "metadata": {
  "kernelspec": {
   "display_name": "Python [Root]",
   "language": "python",
   "name": "Python [Root]"
  },
  "language_info": {
   "codemirror_mode": {
    "name": "ipython",
    "version": 2
   },
   "file_extension": ".py",
   "mimetype": "text/x-python",
   "name": "python",
   "nbconvert_exporter": "python",
   "pygments_lexer": "ipython2",
   "version": "2.7.11"
  }
 },
 "nbformat": 4,
 "nbformat_minor": 0
}
